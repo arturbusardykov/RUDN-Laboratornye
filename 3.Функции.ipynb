{
 "cells": [
  {
   "cell_type": "markdown",
   "metadata": {},
   "source": [
    "# Лабораторная работа 3. Функции."
   ]
  },
  {
   "cell_type": "markdown",
   "metadata": {},
   "source": [
    "Функции широко используются в программировании и являются одним из основных понятий, которые необходимо освоить. Функции в Python могут иметь ряд входных параметров и возвращать одно или несколько значений или ничего не возвращать. Цель использования функций состоит из двух частей:\n",
    "\n",
    "- группировать строки кода, которые естественным образом связаны друг с другом\n",
    "\n",
    "- параметризовать набор выражений таких, которые можно написать только один раз, а затем использовать с разными параметрами"
   ]
  },
  {
   "cell_type": "markdown",
   "metadata": {},
   "source": [
    "В языке программирования Python функции определяются с помощью оператора def. "
   ]
  },
  {
   "cell_type": "markdown",
   "metadata": {},
   "source": [
    "Как и другие сложные инструкции вроде условного оператора и циклов функция состоит из заголовка и тела. Заголовок оканчивается двоеточием и переходом на новую строку. Тело имеет отступ. Ключевое слово def сообщает интерпретатору, что перед ним определение функции. За def следует имя функции. После имени функции ставятся скобки, в них указываются параметры. После двоеточия следует тело, содержащее инструкции, которые выполняются при вызове функции. \n",
    "\n",
    "Следует различать определение функции и ее вызов. В программном коде они не рядом и не вместе. Можно определить функцию, но ни разу ее не вызвать. Нельзя вызвать функцию, которая не была определена. Определив функцию, но ни разу не вызвав ее, вы никогда не выполните ее тела."
   ]
  },
  {
   "cell_type": "markdown",
   "metadata": {},
   "source": [
    "Если функция содержит инструкции if-elif-else, каждый из блока может возвращать значение с помощью return:"
   ]
  },
  {
   "cell_type": "code",
   "execution_count": 8,
   "metadata": {},
   "outputs": [],
   "source": [
    "def check_sign(x):\n",
    "    if x > 0:\n",
    "        return print('это положительное число')\n",
    "    elif x < 0:\n",
    "        return print('это отрицательное число')\n",
    "    else:\n",
    "        return print('это число равно нулю')"
   ]
  },
  {
   "cell_type": "markdown",
   "metadata": {},
   "source": [
    "В этой ситуации только один блок будет выполнен при вызове функции check_sign."
   ]
  },
  {
   "cell_type": "code",
   "execution_count": 9,
   "metadata": {},
   "outputs": [
    {
     "name": "stdout",
     "output_type": "stream",
     "text": [
      "это положительное число\n"
     ]
    }
   ],
   "source": [
    "check_sign(1)"
   ]
  },
  {
   "cell_type": "markdown",
   "metadata": {},
   "source": [
    "# Пример 1."
   ]
  },
  {
   "cell_type": "markdown",
   "metadata": {},
   "source": [
    "Функция может не иметь возвращаемого значения (в этом случае инструкция return опускается), а также возвращать более одного значения."
   ]
  },
  {
   "cell_type": "code",
   "execution_count": 17,
   "metadata": {},
   "outputs": [],
   "source": [
    "def xy(v0x, v0y, t):\n",
    "    g = 9.81\n",
    "    return v0x*t, v0y*t - 0.5*g*t**2"
   ]
  },
  {
   "cell_type": "markdown",
   "metadata": {},
   "source": [
    "При этом возвращаемые значения разделяются запятой. При вызове функции аргументы должны следовать в том же порядке, как и в определении. Теперь мы можем напечатать результат следующим образом:"
   ]
  },
  {
   "cell_type": "code",
   "execution_count": 19,
   "metadata": {},
   "outputs": [
    {
     "name": "stdout",
     "output_type": "stream",
     "text": [
      "(1.2, 1.2342)\n"
     ]
    }
   ],
   "source": [
    "initial_velocity_x = 2.0\n",
    "initial_velocity_y = 5.0\n",
    "\n",
    "time = 0.6\n",
    "\n",
    "print (xy(initial_velocity_x, initial_velocity_y, time))"
   ]
  },
  {
   "cell_type": "markdown",
   "metadata": {},
   "source": [
    "Два возвращаемых значения могут быть присвоены двум переменным, например, так"
   ]
  },
  {
   "cell_type": "code",
   "execution_count": 24,
   "metadata": {},
   "outputs": [
    {
     "name": "stdout",
     "output_type": "stream",
     "text": [
      "1.2 1.2342\n"
     ]
    }
   ],
   "source": [
    "x, y = xy(initial_velocity_x, initial_velocity_y, time)\n",
    "\n",
    "print(x, y)"
   ]
  },
  {
   "cell_type": "markdown",
   "metadata": {},
   "source": [
    "Теперь переменные x и y могут использоваться в коде."
   ]
  },
  {
   "cell_type": "markdown",
   "metadata": {},
   "source": [
    "Переменные, которые определены внутри функции (например, g в xy), являются локальными переменными. Это означает, что они видимы только внутри функции. Поэтому, если мы случайно попытаемся использовать переменную g вне функции, мы получим сообщение об ошибке. Переменная time определена вне функции и поэтому является глобальной переменной. Она видима как вне, так и внутри функции(ий). Если мы определим одну глобальную и одну локальную переменные с одним и тем же именем, то внутри функции будет видима только локальная переменная, при этом глобальная переменная не изменяется при изменении локальной переменной с тем же именем.\n",
    "\n",
    "Аргументы перечисленные в заголовке определения функции, как правило, являются локальными переменными. Если нужно изменить значение глобальной переменной внутри функции, следует определить переменную внутри функции как глобальную, т.е., если глобальная переменная имеет имя x, то нам нужно написать global x внутри определения функции, прежде чем изменять её значение. После выполнения функции, x будет иметь измененное значение. Следует стараться определять переменные там, где они необходимы.\n",
    "\n",
    "Еще один полезный способ управления параметрами в Python заключается в использовании именованных аргументов. Этот подход позволяет задавать аргументам значения по умолчанию и дает больше свободы в вызове функций, так как порядок и количество аргументов может варьироваться."
   ]
  },
  {
   "cell_type": "code",
   "execution_count": 25,
   "metadata": {},
   "outputs": [],
   "source": [
    "def xy(t, v0x = 0, v0y = 0):\n",
    "    g = 9.81\n",
    "    return v0x*t, v0y*t - 0.5*g*t**2"
   ]
  },
  {
   "cell_type": "markdown",
   "metadata": {},
   "source": [
    "Здесь t — обычный или позиционный аргумент, тогда как v0x и v0y — именованные аргументы. В общем случае, может быть несколько позиционных и несколько именованных аргументов, но позиционные аргументы всегда должны следовать перед именованными в определении функции. Именованные аргументы имеют значение по умолчанию, в нашем примере vx0 и v0y по умолчанию равны нулю. В сценарии функция xy_named может быть вызвана разными способами. Например"
   ]
  },
  {
   "cell_type": "code",
   "execution_count": 26,
   "metadata": {},
   "outputs": [
    {
     "name": "stdout",
     "output_type": "stream",
     "text": [
      "(0.0, -1.7658)\n"
     ]
    }
   ],
   "source": [
    "print (xy(0.6))"
   ]
  },
  {
   "cell_type": "markdown",
   "metadata": {},
   "source": [
    "выполнит вычисления с t = 0.6 и значениями,заданными по умолчанию (в нашем случае 0) для v0x и v0y. Два возвращаемых функцией xy_named значения будут выведены на экран. Если мы хотим использовать другое значение для переменной v0y, мы можем, например, написать"
   ]
  },
  {
   "cell_type": "code",
   "execution_count": 29,
   "metadata": {},
   "outputs": [
    {
     "name": "stdout",
     "output_type": "stream",
     "text": [
      "(0.0, 0.6341999999999999)\n"
     ]
    }
   ],
   "source": [
    "print (xy(0.6, v0y = 4.0))"
   ]
  },
  {
   "cell_type": "markdown",
   "metadata": {},
   "source": [
    "Функция также может быть определена внутри другой функции. В этом случае она становится локальной или вложенной функцией, видимой только функцией, внутри которой она определена. Функции определенные в главном сценарии называются глобальными функциями. Вложенная функция имеет полный доступ ко всем переменным родительской функции, т.е. функции, внутри которой она определена.\n",
    "\n",
    "Короткие функции могут определяться компактно с помощью лямбда функций:"
   ]
  },
  {
   "cell_type": "code",
   "execution_count": 1,
   "metadata": {},
   "outputs": [],
   "source": [
    "f = lambda x, y: x + 2*y"
   ]
  },
  {
   "cell_type": "code",
   "execution_count": 2,
   "metadata": {},
   "outputs": [
    {
     "data": {
      "text/plain": [
       "5"
      ]
     },
     "execution_count": 2,
     "metadata": {},
     "output_type": "execute_result"
    }
   ],
   "source": [
    "f(1,2)"
   ]
  },
  {
   "cell_type": "markdown",
   "metadata": {},
   "source": [
    "эквивалентно"
   ]
  },
  {
   "cell_type": "code",
   "execution_count": 31,
   "metadata": {},
   "outputs": [],
   "source": [
    "def f(x, y):\n",
    "    return x + 2*y"
   ]
  },
  {
   "cell_type": "markdown",
   "metadata": {},
   "source": [
    "Синтаксис состоит из ключевого слова lambda и следующих за ним набора аргументов, двоеточия и некоторого выражения, дающим в результате объект, возвращаемый функцией. Лямбда функции особенно удобно использовать в качестве аргументов функций:"
   ]
  },
  {
   "cell_type": "code",
   "execution_count": 3,
   "metadata": {},
   "outputs": [
    {
     "name": "stdout",
     "output_type": "stream",
     "text": [
      "6\n"
     ]
    }
   ],
   "source": [
    "def treat_xy(f, x, y):\n",
    "    return f(x,y)\n",
    "\n",
    "print (treat_xy(lambda x, y: x*y, 2, 3))"
   ]
  },
  {
   "cell_type": "markdown",
   "metadata": {},
   "source": [
    "Видно, что treat_xy принимает имя функции в качестве первого аргумента. Внутри treat_xy это имя используется для вызова соответствующей функции."
   ]
  },
  {
   "cell_type": "markdown",
   "metadata": {},
   "source": [
    "# Издержки при вызове функций\n",
    "\n",
    "Вызов функций имеет недостаток, заключающийся в замедлении выполнения программы. Как правило, разбиение программы на функции считается хорошим тоном, но в частях, содержащий очень интенсивные вычисления, например, внутри длинных циклов, нужно находить баланс между удобством вызова функции и вычислительной эффективностью, избегающей вызовы функций. Можно предложить правило, когда разрабатывается программа, содержащая много функций, а затем на стадии оптимизации, когда все вычисления корректны, удалять вызовы функций, которые замедляют выполнение кода.\n",
    "\n",
    "Ниже приведен небольшой пример, где вычисляется процессорное время при выполнение вычислений с массивами при использовании и без использования вспомогательной функции"
   ]
  },
  {
   "cell_type": "code",
   "execution_count": 34,
   "metadata": {},
   "outputs": [],
   "source": [
    "import numpy as np\n",
    "\n",
    "n = 1000000\n",
    "a = np.zeros(n)\n",
    "\n",
    "def add(a, b):\n",
    "    return a+b"
   ]
  },
  {
   "cell_type": "code",
   "execution_count": 35,
   "metadata": {},
   "outputs": [
    {
     "name": "stdout",
     "output_type": "stream",
     "text": [
      "187 ms ± 714 µs per loop (mean ± std. dev. of 7 runs, 1 loop each)\n",
      "131 ms ± 3.54 ms per loop (mean ± std. dev. of 7 runs, 10 loops each)\n"
     ]
    }
   ],
   "source": [
    "%timeit for i in range (n): a[i] = add(i, i+1)\n",
    "    \n",
    "%timeit for i in range (n): a[i] = i + i+1"
   ]
  },
  {
   "cell_type": "markdown",
   "metadata": {},
   "source": [
    "# Пример 2. Разбор строки"
   ]
  },
  {
   "cell_type": "markdown",
   "metadata": {},
   "source": [
    "Рассмотрим программу, которая определяет тип каждого символа строки введённой пользователем"
   ]
  },
  {
   "cell_type": "code",
   "execution_count": 5,
   "metadata": {},
   "outputs": [],
   "source": [
    "def STRparsing():\n",
    "    s=input('Введите что-нибудь: ')\n",
    "    n = len(s)\n",
    "    print('Вы ввели %i символа(-ов)' %(n))\n",
    "    \n",
    "    for i in range(n):\n",
    "        if '0' <= s[i] <= '9':\n",
    "            print ('%2s - это число' %(s[i]))\n",
    "        elif 'a' <= s[i] <= 'z':\n",
    "            print ('%2s - это маленькая буква латинского алфавита' %(s[i]))\n",
    "        else:\n",
    "            print ('%2s - это загадочный символ' %(s[i]))"
   ]
  },
  {
   "cell_type": "markdown",
   "metadata": {},
   "source": [
    "Вызовем это программу:"
   ]
  },
  {
   "cell_type": "code",
   "execution_count": 6,
   "metadata": {},
   "outputs": [
    {
     "name": "stdout",
     "output_type": "stream",
     "text": [
      "Введите что-нибудь: oihoggo 097y5j  kjyggiмоидтж\n",
      "Вы ввели 28 символа(-ов)\n",
      " o - это маленькая буква латинского алфавита\n",
      " i - это маленькая буква латинского алфавита\n",
      " h - это маленькая буква латинского алфавита\n",
      " o - это маленькая буква латинского алфавита\n",
      " g - это маленькая буква латинского алфавита\n",
      " g - это маленькая буква латинского алфавита\n",
      " o - это маленькая буква латинского алфавита\n",
      "   - это загадочный символ\n",
      " 0 - это число\n",
      " 9 - это число\n",
      " 7 - это число\n",
      " y - это маленькая буква латинского алфавита\n",
      " 5 - это число\n",
      " j - это маленькая буква латинского алфавита\n",
      "   - это загадочный символ\n",
      "   - это загадочный символ\n",
      " k - это маленькая буква латинского алфавита\n",
      " j - это маленькая буква латинского алфавита\n",
      " y - это маленькая буква латинского алфавита\n",
      " g - это маленькая буква латинского алфавита\n",
      " g - это маленькая буква латинского алфавита\n",
      " i - это маленькая буква латинского алфавита\n",
      " м - это загадочный символ\n",
      " о - это загадочный символ\n",
      " и - это загадочный символ\n",
      " д - это загадочный символ\n",
      " т - это загадочный символ\n",
      " ж - это загадочный символ\n"
     ]
    }
   ],
   "source": [
    "STRparsing()"
   ]
  },
  {
   "cell_type": "markdown",
   "metadata": {},
   "source": [
    "# Упражнение 1. \n",
    "\n",
    "Научити программу распознавать ещё какие-нибудь символы (например, латинские заглавные или символы кирилици). Обратите внимание, что по умолчанию используется кодировка UTF-8 (Unicode Transformation Format, 8-bit — «формат преобразования Юникода, 8-бит»), допускающая задания 1 112 064 символа (https://unicode-table.com/ru/#cjk-unified-ideographs)."
   ]
  },
  {
   "cell_type": "code",
   "execution_count": 1,
   "metadata": {},
   "outputs": [
    {
     "name": "stdin",
     "output_type": "stream",
     "text": [
      "Введите что-нибудь:  вфывфы\n"
     ]
    },
    {
     "name": "stdout",
     "output_type": "stream",
     "text": [
      "Вы ввели 6 символа(-ов):\n",
      " в - это маленькая буква кириллицы.\n",
      " ф - это маленькая буква кириллицы.\n",
      " ы - это маленькая буква кириллицы.\n",
      " в - это маленькая буква кириллицы.\n",
      " ф - это маленькая буква кириллицы.\n",
      " ы - это маленькая буква кириллицы.\n"
     ]
    }
   ],
   "source": [
    "def str_parsing():\n",
    "    s = input('Введите что-нибудь: ')\n",
    "    n = len(s)\n",
    "    print(f'Вы ввели {n} символа(-ов):')\n",
    "    \n",
    "    for i in range(n):\n",
    "        if '0' <= s[i] <= '9':\n",
    "            print('{:>2s} - это число.'.format(s[i]))\n",
    "        elif 'a' <= s[i] <= 'z':\n",
    "            print('{:>2s} - это маленькая буква латинского алфавита.'.format(s[i]))\n",
    "        elif 'A' <= s[i] <= 'Z':\n",
    "            print('{:>2s} - это заглавная буква латинского алфавита.'.format(s[i]))\n",
    "        elif 'А' <= s[i] <= 'Я':\n",
    "            print('{:>2s} - это заглавная буква кириллицы.'.format(s[i]))\n",
    "        elif 'а' <= s[i] <= 'я':\n",
    "            print('{:>2s} - это маленькая буква кириллицы.'.format(s[i]))\n",
    "        elif s[i] == ' ':\n",
    "            print('\" \" - это пробел.')\n",
    "        elif '!' <= s[i] <= '/' or ':' <= s[i] <= '@' or '[' <= s[i] <= '`' or '{' <= s[i] <= '~':\n",
    "            print('{:>2s} - это знак препинания.'.format(s[i]))\n",
    "        else:\n",
    "            print('{:>2s} - это загадочный символ.'.format(s[i])) \n",
    "            "
   ]
  },
  {
   "cell_type": "code",
   "execution_count": null,
   "metadata": {},
   "outputs": [],
   "source": []
  },
  {
   "cell_type": "markdown",
   "metadata": {},
   "source": [
    "# Пример 3.\n",
    "\n",
    "Напишим программу определяющую результат логического вырожения, которое истинно тогда и только тогда, когда все три числа x, y и z больше 10.\n",
    "\n",
    "(Реализовать эту программу с помощью логических вырожений, без условного оператора.)"
   ]
  },
  {
   "cell_type": "code",
   "execution_count": 2,
   "metadata": {},
   "outputs": [],
   "source": [
    "def Logic1(x,y,z):\n",
    "    \n",
    "    logic = x > 10 and y > 10 and z > 10\n",
    "\n",
    "    return logic"
   ]
  },
  {
   "cell_type": "code",
   "execution_count": 3,
   "metadata": {},
   "outputs": [
    {
     "name": "stdout",
     "output_type": "stream",
     "text": [
      "Результат этого логического выражения для заданных чисел: True <class 'bool'>\n"
     ]
    }
   ],
   "source": [
    "logic = Logic1(11,12,13)\n",
    "print('Результат этого логического выражения для заданных чисел: %s' %(logic), type(logic))"
   ]
  },
  {
   "cell_type": "markdown",
   "metadata": {},
   "source": [
    "# Упражнение 2. \n",
    "\n",
    "Напишим программу определяющую результат логического вырожения, которое истинно тогда и только тогда, когда:\n",
    "\n",
    "- хотя бы одно из трех чисел X, Y, Z больше 10;\n",
    "- ровно одно число из X, Y, Z больше 10.\n",
    "\n",
    "(Реализовать эту программу с помощью логических вырожений, без условного оператора.)"
   ]
  },
  {
   "cell_type": "code",
   "execution_count": 4,
   "metadata": {
    "tags": []
   },
   "outputs": [],
   "source": [
    "def Logic1(x,y,z):\n",
    "    \n",
    "    logic = x > 10 != y > 10 # XOR\n",
    "    \n",
    "    return logic"
   ]
  },
  {
   "cell_type": "code",
   "execution_count": 5,
   "metadata": {},
   "outputs": [],
   "source": [
    "def first(a, b, c):\n",
    "    return a or b or c"
   ]
  },
  {
   "cell_type": "code",
   "execution_count": 6,
   "metadata": {},
   "outputs": [],
   "source": [
    "def second(a, b, c):\n",
    "    return int(a) + int(b) + int(c) == 1"
   ]
  },
  {
   "cell_type": "code",
   "execution_count": 8,
   "metadata": {},
   "outputs": [
    {
     "name": "stdin",
     "output_type": "stream",
     "text": [
      "Введите x:  8\n",
      "Введите y:  8\n",
      "Введите z:  8\n"
     ]
    },
    {
     "name": "stdout",
     "output_type": "stream",
     "text": [
      "Результат работы первой подпрограммы: False\n",
      "Результат работы второй подпрограммы: False\n"
     ]
    }
   ],
   "source": [
    "x = int(input('Введите x: '))\n",
    "y = int(input('Введите y: '))\n",
    "z = int(input('Введите z: '))\n",
    "\n",
    "x_bigger_than_10 = x > 10\n",
    "y_bigger_than_10 = y > 10\n",
    "z_bigger_than_10 = z > 10\n",
    "\n",
    "print('Результат работы первой подпрограммы:', first(x_bigger_than_10, y_bigger_than_10, z_bigger_than_10))\n",
    "print('Результат работы второй подпрограммы:', second(x_bigger_than_10, y_bigger_than_10, z_bigger_than_10))"
   ]
  },
  {
   "cell_type": "markdown",
   "metadata": {
    "tags": []
   },
   "source": [
    "# Упражнение 3.\n",
    "\n",
    "Напишим программу определяющую результат логического вырожения, которое истинно тогда и только тогда, когда число x трехзначное и цифра 7 входит в его десятичную запись, и ложно в противном случае.\n",
    "\n",
    "(Реализовать эту программу с помощью логических вырожений, без условного оператора.)"
   ]
  },
  {
   "cell_type": "code",
   "execution_count": null,
   "metadata": {},
   "outputs": [],
   "source": [
    "def first_statement(x):\n",
    "    return 1 <= x // 100 < 10\n",
    "def second_statement(x):\n",
    "    return '7' in str(x)\n",
    "i = int(input('Введите число: '))\n",
    "print('Результат работы программы:', first_statement(i) and second_statement(i))"
   ]
  },
  {
   "cell_type": "markdown",
   "metadata": {},
   "source": [
    "# Домашнее задание (базовое):"
   ]
  },
  {
   "cell_type": "markdown",
   "metadata": {},
   "source": [
    "# Задание 1.\n",
    "\n",
    "Напишите программу определяющую результат логического вырожения, которое истинно тогда и только тогда, когда число x:\n",
    "\n",
    "- трехзначное и положительное, с 0 в конце;\n",
    "- нечетное, делится на 3 или на 5;\n",
    "- принадлежит отрезку числовой прямой [2, 6];\n",
    "- трехзначное и все его цифры одинаковые.\n",
    "\n",
    "(Реализовать эту программу с помощью логических вырожений, без условного оператора.)"
   ]
  },
  {
   "cell_type": "code",
   "execution_count": null,
   "metadata": {},
   "outputs": [],
   "source": [
    "def first(x):\n",
    "    return x > 0 and len(str(x)) == 3 and str(x)[2] == '0'\n",
    "def second(x):\n",
    "    return x % 2 == 1 and (x % 3 == 0 or x % 5 == 0)\n",
    "def third(x):\n",
    "    return x in range(200, 601)\n",
    "def fourth(x):\n",
    "    try:\n",
    "        return len(str(x)) == 3 and (str(x)[0] == str(x)[1] == str(x)[2])\n",
    "    except:\n",
    "        return False\n",
    "x = int(input('Введите число: '))\n",
    "\n",
    "print('Результат работы первой подпрограммы:', first(x))\n",
    "print('Результат работы второй подпрограммы:', second(x))\n",
    "print('Результат работы третьей подпрограммы:', third(x))\n",
    "print('Результат работы четвёртой подпрограммы:', fourth(x))"
   ]
  },
  {
   "cell_type": "markdown",
   "metadata": {},
   "source": [
    "# Задание 2.\n",
    "\n",
    "Напишите программу определяющую результат логического вырожения, в котором используются числа 3 и 5, переменная x и логические операции, при этом:\n",
    "\n",
    "- выражение, истинное при любом x;\n",
    "- выражение, ложное при любом x.\n",
    "\n",
    "(Реализовать эту программу с помощью логических вырожений, без условного оператора.)"
   ]
  },
  {
   "cell_type": "code",
   "execution_count": null,
   "metadata": {},
   "outputs": [],
   "source": [
    "def first(x):\n",
    "    return not (x and not x and 3 and 5)\n",
    "def second(x):\n",
    "    return not first(x)\n",
    "a = input('Введите любое выражение: ')\n",
    "\n",
    "print('Результат работы первой подпрограммы:', first(x))\n",
    "print('Результат работы второй подпрограммы:', second(x))"
   ]
  },
  {
   "cell_type": "markdown",
   "metadata": {},
   "source": [
    "# Задание 3.\n",
    "\n",
    "Напишите программу определяющую результат логического вырожения, которое истинно тогда и только тогда, когда координаты (x,y) принадлежат заштрихаванной области.\n",
    "\n",
    "(Реализовать эту программу с помощью логических вырожений, без условного оператора.)"
   ]
  },
  {
   "cell_type": "code",
   "execution_count": 33,
   "metadata": {},
   "outputs": [
    {
     "data": {
      "image/png": "[encoded data removed]",
      "text/plain": [
       "<IPython.core.display.Image object>"
      ]
     },
     "execution_count": 33,
     "metadata": {},
     "output_type": "execute_result"
    }
   ],
   "source": [
    "# Так можно добавлять картинки\n",
    "\n",
    "from IPython.display import Image           # вызов из библиотеки определённой функции\n",
    "Image(\"fig.png\")                            # вызов функции и передача ей в качестве аргумента пути к файлу \n",
    "\n",
    "# (в данном случае фаил находится в той же папке)"
   ]
  },
  {
   "cell_type": "code",
   "execution_count": null,
   "metadata": {},
   "outputs": [],
   "source": [
    "def a(x, y):\n",
    "    return (x >= 4 and y >= 3) or (x < 4 and y < 3 and x + y <= 0)\n",
    "def b(x, y):\n",
    "    return (3 - abs(x) >= 0) and (3 - abs(y) >= 0) and (x ** 2 + y ** 2 >= 9)\n",
    "def c(x, y):\n",
    "    return (0 <= x <= 5) and (0 <= y <= 5) and ((x - 5) ** 2 + (y - 5) ** 2 >= 25)\n",
    "x = float(input('Введите координату x: '))\n",
    "y = float(input('Введите координату y: '))\n",
    "\n",
    "print(a(x, y))\n",
    "print(b(x, y))\n",
    "print(c(x, y))"
   ]
  },
  {
   "cell_type": "markdown",
   "metadata": {},
   "source": [
    "# Задание 4\n",
    "\n",
    "В программировании можно из одной функции вызывать другую. Для иллюстрации этой возможности напишите программу по следующему описанию.\n",
    "\n",
    "Основная ветка программы, не считая заголовков функций, состоит из одной строки кода. Это вызов функции test(). В ней запрашивается на ввод целое число. Если оно положительное, то вызывается функция positive(), тело которой содержит команду вывода на экран слова \"Положительное\". Если число отрицательное, то вызывается функция negative(), ее тело содержит выражение вывода на экран слова \"Отрицательное\"."
   ]
  },
  {
   "cell_type": "code",
   "execution_count": null,
   "metadata": {},
   "outputs": [],
   "source": [
    " "
   ]
  },
  {
   "cell_type": "markdown",
   "metadata": {},
   "source": [
    "# Задание 5\n",
    "\n",
    "Напишите программу, в которой определены следующие четыре функции:\n",
    "\n",
    "1. Функция getInput() не имеет параметров, запрашивает ввод с клавиатуры и возвращает в основную программу полученную строку.\n",
    "\n",
    "2. Функция testInput() имеет один параметр. В теле она проверяет, можно ли переданное ей значение преобразовать к целому числу. Если можно, возвращает логическое True. Если нельзя – False.\n",
    "\n",
    "3. Функция strToInt() имеет один параметр. В теле преобразовывает переданное значение к целочисленному типу. Возвращает полученное число.\n",
    "\n",
    "4. Функция printInt() имеет один параметр. Она выводит переданное значение на экран и ничего не возвращает.\n",
    "\n",
    "В основной ветке программы вызовите первую функцию. То, что она вернула, передайте во вторую функцию. Если вторая функция вернула True, то те же данные (из первой функции) передайте в третью функцию, а возвращенное третьей функцией значение – в четвертую."
   ]
  },
  {
   "cell_type": "code",
   "execution_count": null,
   "metadata": {},
   "outputs": [],
   "source": []
  },
  {
   "cell_type": "markdown",
   "metadata": {},
   "source": [
    "# Домашнее задание (дополнительное):"
   ]
  },
  {
   "cell_type": "markdown",
   "metadata": {},
   "source": [
    "# Задание «Игра в арифметику».\n",
    "\n",
    "Напишите программу, которая проверяет пользователя на знание таблицы умножения. Пользователь сам вводит два целых однозначных числа. Программа задаёт вопрос: результат умножения первого числа на второе.  Пользователь должен ввести ответ и увидеть на экране правильно он ответил или нет. Если нет  – показать еще и правильный результат. Повторять процедуру пока пользователь не даст 5 правильных ответов. После трёх правильных ответов подряд программа должна выводить поощрительное, ободряющее сообщение (на ваш вкус), после трёх неправильных ответов подряд – «грязно выругаться» (на ваш вкус)."
   ]
  },
  {
   "cell_type": "code",
   "execution_count": null,
   "metadata": {},
   "outputs": [],
   "source": []
  },
  {
   "cell_type": "markdown",
   "metadata": {},
   "source": [
    "# Задание «Лишние буквы».\n",
    "\n",
    "Напишите функцию, которая удаляет из введённой пользователем строки все повторяющиеся символы и пробелы. После чего выводит полученный результат на экран. Например, если было введено \"abc cde def\", то должно быть выведено \"abcdef\"."
   ]
  },
  {
   "cell_type": "code",
   "execution_count": null,
   "metadata": {},
   "outputs": [],
   "source": []
  }
 ],
 "metadata": {
  "kernelspec": {
   "display_name": "Python 3 (ipykernel)",
   "language": "python",
   "name": "python3"
  },
  "language_info": {
   "codemirror_mode": {
    "name": "ipython",
    "version": 3
   },
   "file_extension": ".py",
   "mimetype": "text/x-python",
   "name": "python",
   "nbconvert_exporter": "python",
   "pygments_lexer": "ipython3",
   "version": "3.9.7"
  }
 },
 "nbformat": 4,
 "nbformat_minor": 4
}
