{
 "cells": [
  {
   "cell_type": "markdown",
   "metadata": {},
   "source": [
    "# Лабораторная работа 8. Алгоритмы сортировки и поиска."
   ]
  },
  {
   "cell_type": "markdown",
   "metadata": {},
   "source": [
    "# 1. Алгоритмы сортировки."
   ]
  },
  {
   "cell_type": "code",
   "execution_count": 4,
   "metadata": {},
   "outputs": [],
   "source": [
    "ary = [0,3,5,1,2,3,5,4,2,34,43,24]"
   ]
  },
  {
   "cell_type": "markdown",
   "metadata": {},
   "source": [
    "# 1.1. Сортировка выбором\n",
    "\n",
    "Алгоритм:\n",
    "- найти наименьший элемент в неотсортированной части массива;\n",
    "- поставить его в начало;\n",
    "- сдвинуть начало неотсортированной части. \n",
    "\n",
    "Сложность: $O(n^2)$."
   ]
  },
  {
   "cell_type": "markdown",
   "metadata": {},
   "source": [
    "Программа:"
   ]
  },
  {
   "cell_type": "code",
   "execution_count": 5,
   "metadata": {},
   "outputs": [],
   "source": [
    "def selection_sort(arrayToSort):\n",
    "    a = arrayToSort\n",
    "    n = len(a)\n",
    "    for i in range(n):\n",
    "        idxMin = i\n",
    "        for j in range(i+1, n):\n",
    "            if a[j] < a[idxMin]:\n",
    "                idxMin = j\n",
    "                tmp = a[idxMin]\n",
    "                a[idxMin] = a[i]\n",
    "                a[i] = tmp\n",
    "    return a"
   ]
  },
  {
   "cell_type": "markdown",
   "metadata": {},
   "source": [
    "Тестовый запуск:"
   ]
  },
  {
   "cell_type": "code",
   "execution_count": 6,
   "metadata": {},
   "outputs": [
    {
     "name": "stdout",
     "output_type": "stream",
     "text": [
      "[0, 2, 2, 1, 4, 3, 3, 5, 5, 24, 34, 43]\n"
     ]
    }
   ],
   "source": [
    "print (selection_sort(ary.copy()))"
   ]
  },
  {
   "cell_type": "markdown",
   "metadata": {},
   "source": [
    "# 1.2. Сортировка вставками\n",
    "\n",
    "Алгоритм:\n",
    "- из неотсортированной части берется элемент;\n",
    "- вставляется в отсортированную часть на своё мосто (в начале массива). \n",
    "\n",
    "Сложность: $O(n^2)$."
   ]
  },
  {
   "cell_type": "code",
   "execution_count": 7,
   "metadata": {},
   "outputs": [],
   "source": [
    "def insertion_sort(arrayToSort):\n",
    "    a = arrayToSort.copy() \n",
    "    n = len(a)\n",
    "    for i in range(n):\n",
    "        v = a[i]\n",
    "        j = i\n",
    "        while (a[j-1] > v) and (j > 0):\n",
    "            a[j] = a[j-1]\n",
    "            j = j - 1\n",
    "        a[j] = v\n",
    "    return a"
   ]
  },
  {
   "cell_type": "code",
   "execution_count": 8,
   "metadata": {},
   "outputs": [
    {
     "name": "stdout",
     "output_type": "stream",
     "text": [
      "[0, 1, 2, 2, 3, 3, 4, 5, 5, 24, 34, 43]\n"
     ]
    }
   ],
   "source": [
    "print (insertion_sort(ary))"
   ]
  },
  {
   "cell_type": "markdown",
   "metadata": {},
   "source": [
    "# 1.3. Сортировка методом пузырька\n",
    "\n",
    "Алгоритм:\n",
    "- последовательно сравниваются пары элементов идущих друг за другом;\n",
    "- в случае несоответствия выбранному порядку меняются местами. \n",
    "\n",
    "Сложность: $O(n^2)$."
   ]
  },
  {
   "cell_type": "code",
   "execution_count": 9,
   "metadata": {},
   "outputs": [],
   "source": [
    "def bubble_sort(arrayToSort):\n",
    "    a = arrayToSort.copy() \n",
    "    n = len(a)\n",
    "    for i in range(n,0,-1):\n",
    "        for j in range(1, i):\n",
    "            if a[j-1] > a[j]:\n",
    "                tmp = a[j-1]\n",
    "                a[j-1] = a[j]\n",
    "                a[j] = tmp\n",
    "    return a"
   ]
  },
  {
   "cell_type": "code",
   "execution_count": 10,
   "metadata": {},
   "outputs": [
    {
     "name": "stdout",
     "output_type": "stream",
     "text": [
      "[0, 1, 2, 2, 3, 3, 4, 5, 5, 24, 34, 43]\n"
     ]
    }
   ],
   "source": [
    "print (bubble_sort(ary))"
   ]
  },
  {
   "cell_type": "markdown",
   "metadata": {},
   "source": [
    "# 1.4. Сортировка слиянием\n",
    "\n",
    "Алгоритм:\n",
    "- сортируемый массив разбивается на две части примерно одинакового размера;\n",
    "- каждая из получившихся частей сортируется отдельно, например — тем же самым алгоритмом;\n",
    "- два упорядоченных массива половинного размера соединяются в один. \n",
    "\n",
    "Сложность: $O(n log_2 n)$."
   ]
  },
  {
   "cell_type": "code",
   "execution_count": 11,
   "metadata": {},
   "outputs": [],
   "source": [
    "def merge_sort(arrayToSort):\n",
    "    if len(arrayToSort)>1:\n",
    "        mid = len(arrayToSort)//2\n",
    "        lefthalf = arrayToSort[:mid]\n",
    "        righthalf = arrayToSort[mid:]\n",
    "        \n",
    "        merge_sort(lefthalf)\n",
    "        merge_sort(righthalf)\n",
    "        \n",
    "        i, j, k = 0, 0, 0       \n",
    "        while i<len(lefthalf) and j<len(righthalf):\n",
    "            if lefthalf[i]<righthalf[j]:\n",
    "                arrayToSort[k]=lefthalf[i]\n",
    "                i=i+1\n",
    "            else:\n",
    "                arrayToSort[k]=righthalf[j]\n",
    "                j=j+1\n",
    "            k=k+1\n",
    "        while i<len(lefthalf):\n",
    "            arrayToSort[k]=lefthalf[i]\n",
    "            i=i+1; k=k+1\n",
    "        while j<len(righthalf):\n",
    "            arrayToSort[k]=righthalf[j]\n",
    "            j=j+1; k=k+1"
   ]
  },
  {
   "cell_type": "code",
   "execution_count": 12,
   "metadata": {},
   "outputs": [
    {
     "name": "stdout",
     "output_type": "stream",
     "text": [
      "[0, 1, 2, 2, 3, 3, 4, 5, 5, 24, 34, 43]\n"
     ]
    }
   ],
   "source": [
    "alist = ary.copy() \n",
    "merge_sort(alist); \n",
    "print(alist)"
   ]
  },
  {
   "cell_type": "markdown",
   "metadata": {},
   "source": [
    "# 1.5. Быстрая сортировка\n",
    "\n",
    "Алгоритм:\n",
    "- выбрать (опорным) элемент из массива;\n",
    "- перераспределить элементы в массиве так, что элементы меньше опорного помещаются перед ним, а больше или равные после;\n",
    "- применить первые два шага к подмассивам слева и справа от опорных элементов, пока в подмассивах не останется не более одного элемента. \n",
    "\n",
    "Сложность: Средняя $O(n log_2 n)$, Худшая $O(n^2)$."
   ]
  },
  {
   "cell_type": "code",
   "execution_count": 13,
   "metadata": {},
   "outputs": [],
   "source": [
    "def quick_sort(a, l, r):\n",
    "    if (r > l):\n",
    "        v, i, j = a[r], l - 1, r\n",
    "\n",
    "        while (True):\n",
    "            i, j = i + 1, j - 1                            \n",
    "            while(a[i] < v): i = i + 1\n",
    "            while(a[j] > v): j = j - 1\n",
    "            if (i >= j): break\n",
    "            a[i], a[j] = a[j], a[i]\n",
    "            \n",
    "        a[i], a[r] = a[r], a[i]\n",
    "\n",
    "        quick_sort(a, l, i - 1)\n",
    "        quick_sort(a, i + 1, r)"
   ]
  },
  {
   "cell_type": "code",
   "execution_count": 14,
   "metadata": {},
   "outputs": [
    {
     "name": "stdout",
     "output_type": "stream",
     "text": [
      "[0, 3, 5, 1, 2, 3, 5, 4, 2, 34, 43, 24]\n"
     ]
    }
   ],
   "source": [
    "alist = ary.copy() \n",
    "quick_sort(alist, 0, len(alist)-1)\n",
    "print (ary)"
   ]
  },
  {
   "cell_type": "markdown",
   "metadata": {},
   "source": [
    "# Упражнение 1. Сортировка подсчётом.\n",
    "\n",
    "Есть ли алгоритмы сортировки со сложностью, меньшей $O(n log_2 n)$?\n",
    "\n",
    "Да, если известны свойства ключей. Например, если число возможных вариантов значений ограничено (и невелико) можно воспользоваться сортировкой подсчётом. \n",
    "\n",
    "Алгоритм:\n",
    "- создать массив с числом эллементов равным количеству возможным вариантов ключа, заполнить его 0;\n",
    "- перебрать (пройти) сортируемое множество подсчитывая количество ключей с конкретным значением (увеличивая на 1 значения соответствующего эллемента ранее созданного массива);\n",
    "- записать подряд все ненулевые эллементы получившегося массива соответствующее его значению число раз.\n",
    "\n",
    "Сложность: $O(n+k)$, где $k$ - число вариантов ключей.\n",
    "\n",
    "Напишите программу (функцию) реализующую данный алгоритм."
   ]
  },
  {
   "cell_type": "code",
   "execution_count": null,
   "metadata": {},
   "outputs": [],
   "source": [
    "# Так можно добавлять картинки\n",
    "\n",
    "from IPython.display import Image # вызов из библиотеки определённой функции\n",
    "Image(\"Сортировка подсчётом.png\")              # вызов функции и передача ей в качестве аргумента пути к файлу \n",
    "\n",
    "# (в данном случае фаил находится в той же папке)"
   ]
  },
  {
   "cell_type": "code",
   "execution_count": 16,
   "metadata": {},
   "outputs": [
    {
     "name": "stdout",
     "output_type": "stream",
     "text": [
      "[2, 3, 4, 5, 5, 6, 7, 8, 10, 13, 14, 18]\n"
     ]
    }
   ],
   "source": [
    "import numpy as np\n",
    "\n",
    "def counterSort(S):\n",
    "    F = np.zeros(max(S) + 1)\n",
    "    for si in S:\n",
    "        F[si] += 1\n",
    "    j = 0\n",
    "    for i in range(len(F)):\n",
    "        if F[i] != 0:\n",
    "            for k in range(int(F[i])):\n",
    "                S[j] = i\n",
    "                j += 1\n",
    "    return S\n",
    "S = [10, 5, 14, 7, 3, 2, 18, 4, 5, 13, 6, 8]\n",
    "print(counterSort(S))"
   ]
  },
  {
   "cell_type": "markdown",
   "metadata": {},
   "source": [
    "# Пример. Число $\\pi$"
   ]
  },
  {
   "cell_type": "code",
   "execution_count": 5,
   "metadata": {},
   "outputs": [],
   "source": [
    "from sympy import *\n",
    "import numpy as np\n",
    "import time\n",
    "import pylab\n",
    "import matplotlib.pyplot as plt"
   ]
  },
  {
   "cell_type": "code",
   "execution_count": 6,
   "metadata": {},
   "outputs": [
    {
     "name": "stdout",
     "output_type": "stream",
     "text": [
      "Выведем 7 знаков числа пи:\n",
      " 3.141593\n"
     ]
    }
   ],
   "source": [
    "# Выведем заданное колличество знаков числа pi\n",
    "npi=7;\n",
    "print('Выведем %i знаков числа пи:\\n' %npi, pi.n(npi));"
   ]
  },
  {
   "cell_type": "markdown",
   "metadata": {},
   "source": [
    "Конвертируем дробную часть числа $\\pi$ в список:"
   ]
  },
  {
   "cell_type": "code",
   "execution_count": 11,
   "metadata": {},
   "outputs": [],
   "source": [
    "PI = [int(i) for i in str(pi.n(npi))[2:]]"
   ]
  },
  {
   "cell_type": "markdown",
   "metadata": {},
   "source": [
    "Кроме того, можем считать цифры дробной части числа $\\pi$ из файла (в котором храняться 10 000 000 его символов):"
   ]
  },
  {
   "cell_type": "code",
   "execution_count": 12,
   "metadata": {},
   "outputs": [],
   "source": [
    "f = open(\"pi-10million.txt\")  #  открываем файл\n",
    "fs = f.readline(npi)          #  считываем из него npi символов\n",
    "f.close()                     #  закроем файл"
   ]
  },
  {
   "cell_type": "code",
   "execution_count": 13,
   "metadata": {},
   "outputs": [
    {
     "data": {
      "text/plain": [
       "'1415926'"
      ]
     },
     "execution_count": 13,
     "metadata": {},
     "output_type": "execute_result"
    }
   ],
   "source": [
    "fs"
   ]
  },
  {
   "cell_type": "code",
   "execution_count": 14,
   "metadata": {},
   "outputs": [
    {
     "name": "stdout",
     "output_type": "stream",
     "text": [
      "[1, 4, 1, 5, 9, 2, 6]\n"
     ]
    }
   ],
   "source": [
    "Pi = [int(i) for i in fs]\n",
    "print(Pi)"
   ]
  },
  {
   "cell_type": "markdown",
   "metadata": {},
   "source": [
    "# Упражнение. Сортировка $\\pi$\n",
    "\n",
    "Сравните временную сложность всех рассмотренных алгоритмов сортировки на примере цифр числа $\\pi$.\n",
    "\n",
    "Воспользуйтесь для этого замером времени с помощью библиотеки time. Пример:"
   ]
  },
  {
   "cell_type": "code",
   "execution_count": 15,
   "metadata": {},
   "outputs": [
    {
     "name": "stdout",
     "output_type": "stream",
     "text": [
      "Отсортированные цифры числа пи: \n",
      "\n",
      " [1, 1, 3, 4, 5, 9]\n",
      "\n",
      " Время потраченное на сортировку составило   0.0000000e+00 секунд\n"
     ]
    }
   ],
   "source": [
    "start_time = time.time()\n",
    "PI2 = insertion_sort(PI) \n",
    "Tame=time.time()-start_time\n",
    "print ('Отсортированные цифры числа пи: \\n\\n', PI2)\n",
    "print('\\n Время потраченное на сортировку составило %15.7e секунд' %(Tame))"
   ]
  },
  {
   "cell_type": "markdown",
   "metadata": {},
   "source": [
    "Запишем отсортированный список в файл:"
   ]
  },
  {
   "cell_type": "code",
   "execution_count": 106,
   "metadata": {},
   "outputs": [],
   "source": [
    "f1 = open(\"pi_sort.txt\", 'w')\n",
    "f1.writelines('%i' % i for i in PI2)\n",
    "f1.close()"
   ]
  },
  {
   "cell_type": "markdown",
   "metadata": {},
   "source": [
    "Проверим что получилось:"
   ]
  },
  {
   "cell_type": "code",
   "execution_count": 107,
   "metadata": {},
   "outputs": [
    {
     "name": "stdout",
     "output_type": "stream",
     "text": [
      "['000000000000000000000000000000000000000000000000000111111111111111111111111111111111111111111111111111111111111112222222222222222222222222222222222222222222222222222222222233333333333333333333333333333333333333333333333333333333334444444444444444444444444444444444444444444444444444444444455555555555555555555555555555555555555555555555555556666666666666666666666666666666666666666666666666666666777777777777777777777777777777777777777788888888888888888888888888888888888888888888888888888888999999999999999999999999999999999999999999999999999999999']\n"
     ]
    }
   ],
   "source": [
    "f1 = open(\"pi_sort.txt\", 'r')\n",
    "fs = f1.readlines()          #  считываем всё содержимое файла\n",
    "print(fs)\n",
    "f1.close()"
   ]
  },
  {
   "cell_type": "markdown",
   "metadata": {},
   "source": [
    "Посмотрим как меняются затраты времени на сортировку вставками при увеличении числа сортируемых объектов:"
   ]
  },
  {
   "cell_type": "code",
   "execution_count": 20,
   "metadata": {},
   "outputs": [],
   "source": [
    "ik = 31\n",
    "Tame = np.zeros(ik)\n",
    "NPI = [(i+1)*150 for i in range(ik)]\n",
    "i=0\n",
    "for npi in NPI:\n",
    "    PI = [int(i) for i in str(pi.n(npi))[2:]]\n",
    "\n",
    "    start_time = time.time()\n",
    "    PI2 = insertion_sort(PI) \n",
    "    Tame[i]=time.time()-start_time\n",
    "    \n",
    "    i+=1"
   ]
  },
  {
   "cell_type": "code",
   "execution_count": 21,
   "metadata": {},
   "outputs": [
    {
     "name": "stdout",
     "output_type": "stream",
     "text": [
      "\t size\t Tame(sec)\n",
      "\t 150 \t 1.970e-03\n",
      "\t 300 \t 8.000e-03\n",
      "\t 450 \t 1.297e-02\n",
      "\t 600 \t 1.593e-02\n",
      "\t 750 \t 2.497e-02\n",
      "\t 900 \t 3.588e-02\n",
      "\t 1050 \t 4.448e-02\n",
      "\t 1200 \t 5.884e-02\n",
      "\t 1350 \t 7.514e-02\n",
      "\t 1500 \t 9.800e-02\n",
      "\t 1650 \t 1.140e-01\n",
      "\t 1800 \t 1.321e-01\n",
      "\t 1950 \t 1.632e-01\n",
      "\t 2100 \t 1.951e-01\n",
      "\t 2250 \t 2.250e-01\n",
      "\t 2400 \t 2.548e-01\n",
      "\t 2550 \t 2.817e-01\n",
      "\t 2700 \t 3.114e-01\n",
      "\t 2850 \t 3.656e-01\n",
      "\t 3000 \t 4.538e-01\n",
      "\t 3150 \t 5.078e-01\n",
      "\t 3300 \t 5.217e-01\n",
      "\t 3450 \t 5.378e-01\n",
      "\t 3600 \t 5.766e-01\n",
      "\t 3750 \t 6.141e-01\n",
      "\t 3900 \t 6.839e-01\n",
      "\t 4050 \t 7.564e-01\n",
      "\t 4200 \t 8.187e-01\n",
      "\t 4350 \t 8.770e-01\n",
      "\t 4500 \t 9.445e-01\n",
      "\t 4650 \t 1.014e+00\n"
     ]
    },
    {
     "data": {
      "image/png": "[encoded data removed]",
      "text/plain": [
       "<Figure size 432x288 with 1 Axes>"
      ]
     },
     "metadata": {
      "needs_background": "light"
     },
     "output_type": "display_data"
    }
   ],
   "source": [
    "print('\\t size\\t Tame(sec)')\n",
    "for i in range(0,ik):\n",
    "    print ('\\t %i \\t %.3e' %(NPI[i], Tame[i]))\n",
    "\n",
    "# график функции\n",
    "pylab.figure ()\n",
    "plt.plot(NPI, Tame, c='b')\n",
    "plt.scatter(NPI, Tame, c='b',s=50)\n",
    "# параметры графика\n",
    "xl = plt.xlabel(\"size\");\n",
    "yl = plt.ylabel(\"tame (sec)\");\n",
    "plt.grid(True);\n",
    "plt.show();"
   ]
  },
  {
   "cell_type": "code",
   "execution_count": null,
   "metadata": {},
   "outputs": [],
   "source": []
  },
  {
   "cell_type": "markdown",
   "metadata": {},
   "source": [
    "# Пример. Последовательный поиск"
   ]
  },
  {
   "cell_type": "code",
   "execution_count": 40,
   "metadata": {},
   "outputs": [],
   "source": [
    "def dummy_search (a, key):\n",
    "    n = len(a)\n",
    "    for i in range(n):\n",
    "        if a[i] == key:\n",
    "            return i\n",
    "    return n"
   ]
  },
  {
   "cell_type": "code",
   "execution_count": 41,
   "metadata": {},
   "outputs": [
    {
     "name": "stdout",
     "output_type": "stream",
     "text": [
      "6\n"
     ]
    }
   ],
   "source": [
    "ary = [7,8,1,2,3,4,13,5,1,2,44,5,1]\n",
    "print(dummy_search (ary, 13))"
   ]
  },
  {
   "cell_type": "code",
   "execution_count": 45,
   "metadata": {},
   "outputs": [],
   "source": [
    "# вероятно чуть более рациональная реализация\n",
    "def clever_search (a, key):\n",
    "    n = len(a)\n",
    "    i=0\n",
    "    while a[i]!=key:\n",
    "        i=i+1\n",
    "    return i"
   ]
  },
  {
   "cell_type": "code",
   "execution_count": 46,
   "metadata": {},
   "outputs": [
    {
     "name": "stdout",
     "output_type": "stream",
     "text": [
      "6\n"
     ]
    }
   ],
   "source": [
    "ary2 = [7,8,1,2,3,4,13,5,1,2,44,5,1,44]\n",
    "print(clever_search (ary2, 13))"
   ]
  },
  {
   "cell_type": "code",
   "execution_count": 47,
   "metadata": {},
   "outputs": [
    {
     "name": "stdout",
     "output_type": "stream",
     "text": [
      "1.22 µs ± 16.3 ns per loop (mean ± std. dev. of 7 runs, 1000000 loops each)\n",
      "1.12 µs ± 12.4 ns per loop (mean ± std. dev. of 7 runs, 1000000 loops each)\n"
     ]
    }
   ],
   "source": [
    "%timeit dummy_search (ary, 44)\n",
    "    \n",
    "%timeit clever_search (ary2, 44)"
   ]
  },
  {
   "cell_type": "markdown",
   "metadata": {},
   "source": [
    "# Упражнение. Поиск в $\\pi$\n",
    "\n",
    "Найдите в дробной части числа $\\pi$ порядковый номер каждой цифры начиная с 1 встретившейся количество раз равное её значению (первую единицу, вторую двойку и т.д.)"
   ]
  },
  {
   "cell_type": "code",
   "execution_count": null,
   "metadata": {},
   "outputs": [],
   "source": [
    "npi = 100\n",
    "PI = [int(i) for i in str(pi.n(npi))[2:]]\n",
    "\n",
    "a = [0, 0, 0, 0, 0, 0, 0, 0, 0, 0]\n",
    "k = a.copy()\n",
    "\n",
    "for i in range(npi - 2):\n",
    "    a[PI[i]] += 1\n",
    "    if PI[i] == a[PI[i]]:\n",
    "        k[PI[i]] = i + 1\n",
    "\n",
    "print(k)"
   ]
  },
  {
   "cell_type": "markdown",
   "metadata": {},
   "source": [
    "# Домашнее задание (базовое):"
   ]
  },
  {
   "cell_type": "markdown",
   "metadata": {},
   "source": [
    "# Задание 1.\n",
    "\n",
    "Найдите в числе $\\pi$ номер цифры в дробной части после которой идёт последовательность из:\n",
    "\n",
    "- шести 9;\n",
    "- шесть 8;\n",
    "- шесть 0;\n",
    "- первых шести цифр;\n",
    "- семь цифр вашего номера телефона."
   ]
  },
  {
   "cell_type": "code",
   "execution_count": null,
   "metadata": {},
   "outputs": [],
   "source": [
    "import sympy as sm \n",
    "from sympy import *\n",
    "import numpy as np\n",
    "\n",
    "npi = 300000\n",
    "PI = [int(i) for i in str(pi.n(npi))[2:]] "
   ]
  },
  {
   "cell_type": "code",
   "execution_count": null,
   "metadata": {},
   "outputs": [],
   "source": [
    "for i in range(npi - 7):\n",
    "    if PI[i + 1 : i + 7] == [9, 9, 9, 9, 9, 9]:\n",
    "        print(i)\n",
    "        break"
   ]
  },
  {
   "cell_type": "code",
   "execution_count": null,
   "metadata": {},
   "outputs": [],
   "source": [
    "for i in range(npi - 7):\n",
    "    if PI[i + 1 : i + 7] == [8, 8, 8, 8, 8, 8]:\n",
    "        print(i)\n",
    "        break"
   ]
  },
  {
   "cell_type": "code",
   "execution_count": null,
   "metadata": {},
   "outputs": [],
   "source": [
    "f1 = open(\"pi.txt\", 'r')\n",
    "npi = 3999998\n",
    "PIs = f1.readlines()\n",
    "f1.close()\n",
    "PI = []\n",
    "for part in PIs:\n",
    "    for n in part:\n",
    "        if n != '.' and n != '\\n':\n",
    "            PI.append(int(n))"
   ]
  },
  {
   "cell_type": "code",
   "execution_count": null,
   "metadata": {},
   "outputs": [],
   "source": [
    "for i in range(npi - 7):\n",
    "    if PI[i + 1 : i + 7] == [0, 0, 0, 0, 0, 0]:\n",
    "        print(i)\n",
    "        break"
   ]
  },
  {
   "cell_type": "code",
   "execution_count": null,
   "metadata": {},
   "outputs": [],
   "source": [
    "for i in range(npi - 7):\n",
    "    if PI[i + 1 : i + 7] == [1, 2, 3, 4, 5, 6]:\n",
    "        print(i)\n",
    "        break"
   ]
  },
  {
   "cell_type": "code",
   "execution_count": null,
   "metadata": {},
   "outputs": [],
   "source": [
    "for i in range(npi - 7):\n",
    "    if PI[i + 1 : i + 8] == [5,4,6,8,2,7,3]:\n",
    "        print(i)\n",
    "        break"
   ]
  },
  {
   "cell_type": "markdown",
   "metadata": {},
   "source": [
    "# Задание 2. Поиск в отсортированном массиве\n",
    "\n",
    "Реализуйте алгоритмы сужения области:\n",
    "\n",
    "- бинарный поиск (https://ru.wikipedia.org/wiki/%D0%94%D0%B2%D0%BE%D0%B8%D1%87%D0%BD%D1%8B%D0%B9_%D0%BF%D0%BE%D0%B8%D1%81%D0%BA)\n",
    "- метод золотого сечения (https://ru.wikipedia.org/wiki/%D0%9C%D0%B5%D1%82%D0%BE%D0%B4_%D0%B7%D0%BE%D0%BB%D0%BE%D1%82%D0%BE%D0%B3%D0%BE_%D1%81%D0%B5%D1%87%D0%B5%D0%BD%D0%B8%D1%8F)\n",
    "- интерполирующий поиск (https://ru.wikipedia.org/wiki/%D0%98%D0%BD%D1%82%D0%B5%D1%80%D0%BF%D0%BE%D0%BB%D1%8F%D1%86%D0%B8%D0%BE%D0%BD%D0%BD%D1%8B%D0%B9_%D0%BF%D0%BE%D0%B8%D1%81%D0%BA)\n",
    "\n",
    "(см. лекцию 3 с. 17)"
   ]
  },
  {
   "cell_type": "code",
   "execution_count": null,
   "metadata": {},
   "outputs": [],
   "source": [
    "def binarySearch(S, key):\n",
    "    l = 0\n",
    "    r = len(S) - 1\n",
    "    while r - l > 1:\n",
    "        m = (r + l) // 2\n",
    "        if key > S[m]:\n",
    "            l = m\n",
    "        elif key < S[m]:\n",
    "            r = m\n",
    "        else:\n",
    "            print('binarySearch:', m)\n",
    "            return\n",
    "            # важное пояснение: бинарный поиск не обязан искать первое вхождение, \n",
    "            # потому что он с самого начала сравнивает с серединой\n",
    "    if S[l] == key:\n",
    "        print('binarySearch:', l)\n",
    "    elif S[r] == key:\n",
    "        print('binarySearch:', r)\n",
    "    else:\n",
    "        print('binarySearch: not found')"
   ]
  },
  {
   "cell_type": "code",
   "execution_count": null,
   "metadata": {},
   "outputs": [],
   "source": [
    "def goldenCutSearch(S, key):\n",
    "    phi = 0.5*(1 + 5 ** 0.5)\n",
    "    a = 0\n",
    "    b = len(S) - 1\n",
    "    while b - a >= 1:\n",
    "        x1 = int(b - (b - a)//phi)\n",
    "        x2 = int(a + (b - a)//phi)\n",
    "        A = S[a : x2 + 1]\n",
    "        B = S[x1 : b + 1]\n",
    "        if key in A:\n",
    "            b = x2\n",
    "        elif key in B:\n",
    "            a = x1\n",
    "        else:\n",
    "            print('goldenCutSearch: not found')\n",
    "            return\n",
    "    print('goldenCutSearch:', a)"
   ]
  },
  {
   "cell_type": "code",
   "execution_count": null,
   "metadata": {},
   "outputs": [],
   "source": [
    "def interpolationSearch(S, key):\n",
    "    l = 0\n",
    "    r = len(S) - 1\n",
    "    while S[l] < key < S[r]:\n",
    "        m = int(l + ((key - S[l]) * (r - l)) / (S[r] - S[l]))\n",
    "        if key > S[m]:\n",
    "            l = m + 1\n",
    "        elif key < S[m]:\n",
    "            r = m - 1\n",
    "        else:\n",
    "            print('interpolationSearch:', m)\n",
    "            return\n",
    "    if S[l] == key:\n",
    "        print('interpolationSearch:', l)\n",
    "    elif S[r] == key:\n",
    "        print('interpolationSearch:', r)\n",
    "    else:\n",
    "        print('interpolationSearch: not found')"
   ]
  },
  {
   "cell_type": "code",
   "execution_count": null,
   "metadata": {},
   "outputs": [],
   "source": [
    "S = list([7,8,1,2,3,4,13,5,1,2,44,5,1])\n",
    "S.sort()\n",
    "print(S)"
   ]
  },
  {
   "cell_type": "code",
   "execution_count": null,
   "metadata": {},
   "outputs": [],
   "source": [
    "M = [1, 3, 5, 7]\n",
    "print(M)"
   ]
  },
  {
   "cell_type": "code",
   "execution_count": null,
   "metadata": {},
   "outputs": [],
   "source": [
    "K = [1, 2, 3, 4, 5]\n",
    "print(K)"
   ]
  },
  {
   "cell_type": "code",
   "execution_count": null,
   "metadata": {},
   "outputs": [],
   "source": [
    "U = [12.7, 9.1, 10.0012, 7.8]\n",
    "U.sort()\n",
    "print(U)"
   ]
  },
  {
   "cell_type": "code",
   "execution_count": null,
   "metadata": {},
   "outputs": [],
   "source": [
    "try:\n",
    "    key = float(input('Введите значение ключа: '))\n",
    "except ValueError:\n",
    "    print('Вы ввели не число.')\n",
    "\n",
    "A = list(map(float, input('Введите элементы массива через пробел: ').split()))\n",
    "\n",
    "A.sort()\n",
    "print('Отсортированный массив:', A, '\\n')\n",
    "\n",
    "print('Поиск:')\n",
    "binarySearch(A, key)\n",
    "goldenCutSearch(A, key)\n",
    "interpolationSearch(A, key)"
   ]
  },
  {
   "cell_type": "markdown",
   "metadata": {},
   "source": [
    "# Задание 3.\n",
    "\n",
    "Сравните производительность алгоритмов из задания 2 на задании 1."
   ]
  },
  {
   "cell_type": "code",
   "execution_count": null,
   "metadata": {},
   "outputs": [],
   "source": [
    "npi = 1000\n",
    "PI = [int(i) for i in str(pi.n(npi))[2:]]\n"
   ]
  },
  {
   "cell_type": "code",
   "execution_count": null,
   "metadata": {},
   "outputs": [],
   "source": [
    "D = {}\n",
    "i = 0\n",
    "for PI_i in PI:\n",
    "    D[i] = PI_i\n",
    "    i += 1"
   ]
  },
  {
   "cell_type": "code",
   "execution_count": null,
   "metadata": {},
   "outputs": [],
   "source": [
    "PI = list(D.values())"
   ]
  },
  {
   "cell_type": "code",
   "execution_count": null,
   "metadata": {},
   "outputs": [],
   "source": [
    "def dictionarySort(D):\n",
    "    LOI = [] # list of indexes\n",
    "    LOI = list(D.keys())\n",
    "    \n",
    "    # bubble sort method\n",
    "    a = list(D.values())\n",
    "    n = len(a)\n",
    "    for i in range(n, 0, -1):\n",
    "        for j in range(1, i):\n",
    "            if a[j - 1] > a[j]:\n",
    "                a[j - 1], a[j] = a[j], a[j - 1]\n",
    "                LOI[j - 1], LOI[j] = LOI[j], LOI[j - 1]\n",
    "\n",
    "    return LOI"
   ]
  },
  {
   "cell_type": "code",
   "execution_count": null,
   "metadata": {},
   "outputs": [],
   "source": [
    "LOI = dictionarySort(D)\n",
    "print(LOI)"
   ]
  },
  {
   "cell_type": "code",
   "execution_count": 21,
   "metadata": {},
   "outputs": [
    {
     "name": "stdin",
     "output_type": "stream",
     "text": [
      "Введите элементы массива через пробел:  9 1 5 2\n"
     ]
    },
    {
     "name": "stdout",
     "output_type": "stream",
     "text": [
      "Отсортированный массив: 1 2 5 9\n"
     ]
    }
   ],
   "source": [
    "array = list(map(int, input('Введите элементы массива через пробел: ').split()))\n",
    "sorted = [ str(i) for i in heapSort(array) ]\n",
    "print('Отсортированный массив: ' + ' '.join(sorted))"
   ]
  },
  {
   "cell_type": "code",
   "execution_count": 23,
   "metadata": {},
   "outputs": [],
   "source": [
    "def heapify(arr, n, i):\n",
    "    largest = i # Initialize largest as root\n",
    "    l = 2 * i + 1   # left = 2*i + 1\n",
    "    r = 2 * i + 2   # right = 2*i + 2\n",
    "    if l < n and arr[i] < arr[l]:\n",
    "        largest = l\n",
    "    if r < n and arr[largest] < arr[r]:\n",
    "        largest = r\n",
    "    if largest != i:\n",
    "        arr[i],arr[largest] = arr[largest],arr[i] # свап\n",
    "        heapify(arr, n, largest)\n",
    "\n",
    "def heapSort(arr):\n",
    "    n = len(arr)\n",
    "    for i in range(n, -1, -1):\n",
    "        heapify(arr, n, i)\n",
    "    for i in range(n-1, 0, -1):\n",
    "        arr[i], arr[0] = arr[0], arr[i] # свап \n",
    "        heapify(arr, i, 0)"
   ]
  },
  {
   "cell_type": "code",
   "execution_count": 24,
   "metadata": {},
   "outputs": [],
   "source": [
    "arr = [12, 11, 13, 5, 6, 7]\n",
    "heapSort(arr)"
   ]
  },
  {
   "cell_type": "code",
   "execution_count": 25,
   "metadata": {},
   "outputs": [
    {
     "data": {
      "text/plain": [
       "[5, 6, 7, 11, 12, 13]"
      ]
     },
     "execution_count": 25,
     "metadata": {},
     "output_type": "execute_result"
    }
   ],
   "source": [
    "arr"
   ]
  },
  {
   "cell_type": "markdown",
   "metadata": {},
   "source": [
    "# Домашнее задание (дополнительное):"
   ]
  },
  {
   "cell_type": "markdown",
   "metadata": {},
   "source": [
    "# Задание \"Пирамидальная сортировка\"\n",
    "\n",
    "Напишите программу (функцию) реализующую алгоритм пирамидальной сортировки (https://ru.wikipedia.org/wiki/%D0%9F%D0%B8%D1%80%D0%B0%D0%BC%D0%B8%D0%B4%D0%B0%D0%BB%D1%8C%D0%BD%D0%B0%D1%8F_%D1%81%D0%BE%D1%80%D1%82%D0%B8%D1%80%D0%BE%D0%B2%D0%BA%D0%B0,\n",
    "https://habr.com/ru/post/221095/,\n",
    "Алгоритмы. Справочник с примерами на C, C , Java и Python (Хайнеман Дж., и др - 2017) с. 87)."
   ]
  },
  {
   "cell_type": "code",
   "execution_count": 27,
   "metadata": {},
   "outputs": [],
   "source": [
    "def heapSort(v):\n",
    "    N = len(v)\n",
    "    for j in range(N):\n",
    "        for i in range(N // 2 - j // 2 - 1, -1, -1):\n",
    "            if 2 * i + 2 <= N - 1 - j:\n",
    "                if v[2 * i + 1] > v[2 * i + 2]:\n",
    "                    if v[i] < v[2 * i + 1]:\n",
    "                        v[i], v[2 * i + 1] = v[2 * i + 1], v[i]\n",
    "                else:\n",
    "                    if (v[i] < v[2 * i + 2]):\n",
    "                        v[i], v[2 * i + 2] = v[2 * i + 2], v[i]\n",
    "            else:\n",
    "                if (2 * i + 1 <= N - 1 - j):\n",
    "                    if (v[i] < v[2 * i + 1]):\n",
    "                        v[i], v[2 * i + 1] = v[2 * i + 1], v[i]\n",
    "        v[0], v[N - 1 - j] = v[N - 1 - j], v[0]\n",
    "    for i in range(N):\n",
    "        yield v[i] "
   ]
  },
  {
   "cell_type": "code",
   "execution_count": 28,
   "metadata": {},
   "outputs": [
    {
     "name": "stdin",
     "output_type": "stream",
     "text": [
      "Введите элементы массива через пробел:  5 7 1 2\n"
     ]
    },
    {
     "name": "stdout",
     "output_type": "stream",
     "text": [
      "Отсортированный массив: 1 2 5 7\n"
     ]
    }
   ],
   "source": [
    "array = list(map(int, input('Введите элементы массива через пробел: ').split()))\n",
    "sorted = [ str(i) for i in heapSort(array) ]\n",
    "print('Отсортированный массив: ' + ' '.join(sorted))"
   ]
  },
  {
   "cell_type": "code",
   "execution_count": 29,
   "metadata": {},
   "outputs": [],
   "source": [
    "def heapify(arr, n, i):\n",
    "    largest = i # Initialize largest as root\n",
    "    l = 2 * i + 1   # left = 2*i + 1\n",
    "    r = 2 * i + 2   # right = 2*i + 2\n",
    "    if l < n and arr[i] < arr[l]:\n",
    "        largest = l\n",
    "    if r < n and arr[largest] < arr[r]:\n",
    "        largest = r\n",
    "    if largest != i:\n",
    "        arr[i],arr[largest] = arr[largest],arr[i] # свап\n",
    "        heapify(arr, n, largest)\n",
    "\n",
    "def heapSort(arr):\n",
    "    n = len(arr)\n",
    "    for i in range(n, -1, -1):\n",
    "        heapify(arr, n, i)\n",
    "    for i in range(n-1, 0, -1):\n",
    "        arr[i], arr[0] = arr[0], arr[i] # свап \n",
    "        heapify(arr, i, 0)"
   ]
  },
  {
   "cell_type": "code",
   "execution_count": 30,
   "metadata": {},
   "outputs": [],
   "source": [
    "arr = [12, 11, 13, 5, 6, 7]\n",
    "heapSort(arr)"
   ]
  },
  {
   "cell_type": "code",
   "execution_count": 31,
   "metadata": {},
   "outputs": [
    {
     "data": {
      "text/plain": [
       "[5, 6, 7, 11, 12, 13]"
      ]
     },
     "execution_count": 31,
     "metadata": {},
     "output_type": "execute_result"
    }
   ],
   "source": [
    "arr"
   ]
  },
  {
   "cell_type": "markdown",
   "metadata": {},
   "source": [
    "# Задание \"Малые тела\"\n",
    "\n",
    "Есть база данных малых тел солнечной системы созданная под эгидой Международного астрономического союза. Файл с этой базой можно скачать здесь https://www.minorplanetcenter.net/iau/MPCORB/MPCORB.DAT, а здесь приведено его описание https://www.minorplanetcenter.net/iau/info/MPOrbitFormat.html\n",
    "\n",
    "Отсортируйте эту базу по названию малого тела. Напишите две программы реализующие поиск в отсортированном и неотсартированном массивах. В последнем случае поиск может производиться по любому параметру из таблицы."
   ]
  },
  {
   "cell_type": "code",
   "execution_count": null,
   "metadata": {},
   "outputs": [],
   "source": [
    "def sortByTitle(arr):\n",
    "    return arr[2][23] \n",
    "\n",
    "filename = input('Введите имя файла MPCORB.DAT): ')\n",
    "if filename == '':\n",
    "    filename = 'MPCORB.DAT'\n",
    "\n",
    "data = []\n",
    "with open(filename, 'r') as f:\n",
    "    k = False\n",
    "    i = 0\n",
    "    for line in f:\n",
    "        if '--------' in line:\n",
    "            k = True\n",
    "            continue\n",
    "        if k:\n",
    "            s = []\n",
    "            s.append(line[0 : 7])\n",
    "            s.append(line[8 : 13])\n",
    "            s.append(float(line[14 : 19]))\n",
    "            s.append(line[20 : 25])\n",
    "            s.append(float(line[26 : 35]))\n",
    "            s.append(float(line[37 : 46]))\n",
    "            s.append(float(line[48 : 57]))\n",
    "            s.append(float(line[59 : 68]))\n",
    "            s.append(float(line[70 : 79]))\n",
    "            s.append(float(line[80 : 91]))\n",
    "            s.append(float(line[92 : 103]))\n",
    "            s.append(line[105])\n",
    "            s.append(line[107 : 116])\n",
    "            s.append(int(line[117 : 122]))\n",
    "            s.append(int(line[123 : 126]))\n",
    "            s.append(int(line[127 : 131]))\n",
    "            s.append(line[131])\n",
    "            s.append(int(line[132 : 136]))\n",
    "            s.append(line[137 : 141])\n",
    "            s.append(line[142 : 145])\n",
    "            s.append(line[146 : 149])\n",
    "            s.append(line[150 : 160])\n",
    "            s.append(line[161 : 165])\n",
    "            s.append(line[166 : 194]) # тот самый кусок строки с названием объекта\n",
    "            s.append(line[194 : 202])\n",
    "            data.append([i, line, s])\n",
    "            i += 1\n",
    "    print('Прочитано и записано строк: %i' % i)\n",
    "\n",
    "sorted_data = sorted(data, key=sortByTitle)"
   ]
  },
  {
   "cell_type": "code",
   "execution_count": null,
   "metadata": {},
   "outputs": [],
   "source": [
    "print('Прочитано и записано строк: %i' % i)\n"
   ]
  },
  {
   "cell_type": "code",
   "execution_count": null,
   "metadata": {},
   "outputs": [],
   "source": [
    "sorted_data = sorted(data, key=sortByTitle)\n",
    "print('Сортировка завершена.')"
   ]
  },
  {
   "cell_type": "code",
   "execution_count": null,
   "metadata": {},
   "outputs": [],
   "source": [
    "search_str = input('Сделайте поиск: ')\n",
    "for i in range(len(data)):\n",
    "    if search_str in data[i][2][23]:\n",
    "        print('Совпадение в элементе %i несортированного массива. ' % i +\n",
    "              'Планета - %s' % str(data[i][2][23]))\n",
    "        print(data[i][1])"
   ]
  },
  {
   "cell_type": "code",
   "execution_count": null,
   "metadata": {},
   "outputs": [],
   "source": [
    "print(data[931][2][1], type(data[931][2][1]))"
   ]
  },
  {
   "cell_type": "code",
   "execution_count": null,
   "metadata": {},
   "outputs": [],
   "source": [
    "j = int(input('Введите один из 25 индексов данных (целое число от 1 до 25) ' +\n",
    "              '(подробнее: ): ')) - 1\n",
    "search_str = input('Введите строку поиска: ')\n",
    "selection = []\n",
    "for i in range(len(sorted_data)):\n",
    "    if type(sorted_data[i][2][j]) == type(str):\n",
    "        if search_str in sorted_data[i][2][j]:\n",
    "            print('Совпадение в элементе %i несортированного массива. ' % i +\n",
    "                  'Значение - %s' % str(sorted_data[i][2][j]))\n",
    "            print(sorted_data[i][1])\n",
    "            selection.append(sorted_data[i])\n",
    "    else:\n",
    "        search_str = float(search_str)\n",
    "        if search_str == sorted_data[i][2][j]:\n",
    "            print('Совпадение в элементе %i несортированного массива. ' % i +\n",
    "                  'Значение - %f' % float(sorted_data[i][2][j]))\n",
    "            print(sorted_data[i][1])\n",
    "            selection.append(sorted_data[i])"
   ]
  }
 ],
 "metadata": {
  "kernelspec": {
   "display_name": "Python 3 (ipykernel)",
   "language": "python",
   "name": "python3"
  },
  "language_info": {
   "codemirror_mode": {
    "name": "ipython",
    "version": 3
   },
   "file_extension": ".py",
   "mimetype": "text/x-python",
   "name": "python",
   "nbconvert_exporter": "python",
   "pygments_lexer": "ipython3",
   "version": "3.8.13"
  }
 },
 "nbformat": 4,
 "nbformat_minor": 4
}
