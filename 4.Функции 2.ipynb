{
 "cells": [
  {
   "cell_type": "markdown",
   "metadata": {},
   "source": [
    "# Лабораторная работа 4. Функции."
   ]
  },
  {
   "cell_type": "markdown",
   "metadata": {},
   "source": [
    "Функция в программировании представляет собой обособленный участок кода, который можно вызывать, обратившись к нему по имени, которым он был назван. При вызове происходит выполнение команд тела функции.\n",
    "\n",
    "Функции можно сравнить с небольшими программками, которые сами по себе, т. е. автономно, не исполняются, а встраиваются в обычную программу. Нередко их так и называют – подпрограммы. Других ключевых отличий функций от программ нет. Функции также при необходимости могут получать и возвращать данные. Только обычно они их получают не с ввода (клавиатуры, файла и др.), а из вызывающей программы. Сюда же они возвращают результат своей работы."
   ]
  },
  {
   "cell_type": "markdown",
   "metadata": {},
   "source": [
    "# Необязательные параметры и сопоставление по ключам\n",
    "\n",
    "Чтобы сделать некоторые параметры функции необязательными, следует в определении функции присвоить этому параметру начальное значение. Сопоставление по ключам очень удобно использовать, если функция имеет несколько необязательных\n",
    "параметров. В этом случае не нужно указывать все значения, а достаточно присвоить значение нужному параметру."
   ]
  },
  {
   "cell_type": "code",
   "execution_count": 70,
   "metadata": {},
   "outputs": [],
   "source": [
    "def summa (а=2, Ь=3, с=4) : # Все параметры являются необязательными\n",
    "    return а + Ь + с"
   ]
  },
  {
   "cell_type": "code",
   "execution_count": 71,
   "metadata": {},
   "outputs": [
    {
     "name": "stdout",
     "output_type": "stream",
     "text": [
      "9\n",
      "25\n",
      "25\n"
     ]
    }
   ],
   "source": [
    "print (summa () )        # Использование значений по умолчанию\n",
    "print (summa (2, 3, 20)) # Позиционное присваивание\n",
    "print (summa (с=20) )    # Сопоставление по ключам"
   ]
  },
  {
   "cell_type": "markdown",
   "metadata": {},
   "source": [
    "# Переменное число параметров в функции\n",
    "\n",
    "Если перед параметром в определении функции указать символ *, то функции можно будет передать произвольное количество параметров. Все переданные параметры сохраняются в кортеже. Для примера напишем функцию суммирования произвольного количества чисел"
   ]
  },
  {
   "cell_type": "code",
   "execution_count": 78,
   "metadata": {},
   "outputs": [],
   "source": [
    "def summa(*t):\n",
    "    res = 0\n",
    "    for i in t: # Перебираем кортеж с переданными параметрами\n",
    "        res += i\n",
    "    return res"
   ]
  },
  {
   "cell_type": "code",
   "execution_count": 79,
   "metadata": {},
   "outputs": [
    {
     "name": "stdout",
     "output_type": "stream",
     "text": [
      "30\n",
      "210\n"
     ]
    }
   ],
   "source": [
    "print(summa(10, 20)) \n",
    "print(summa(10, 20, 30, 40, 50, 60)) "
   ]
  },
  {
   "cell_type": "markdown",
   "metadata": {},
   "source": [
    "# Глобальные и локальные переменные\n",
    "\n",
    "Глобальные переменные — это переменные, объявленные в программе вне функции. В Python глобальные переменные видны в любой части модуля, включая функции.\n",
    "\n",
    "Локальные переменные— это переменные, объявляемые внутри функций. Если имя локальной переменной совпадает с именем глобальной переменной, то все операции внутри функции осуществляются с локальной переменной, а значение глобальной переменной не изменяется. Локальные переменные видны только внутри тела функции."
   ]
  },
  {
   "cell_type": "code",
   "execution_count": 11,
   "metadata": {},
   "outputs": [],
   "source": [
    "def func():\n",
    "    global globl\n",
    "    locall = 77 # Локальная переменная\n",
    "    globl = 25  # Локальная переменная\n",
    "    print (\"Значение locall внутри функции = \", locall)\n",
    "    print (\"Значение globl внутри функции = \", globl)\n",
    "#    globl = 25 # Глобальная переменная"
   ]
  },
  {
   "cell_type": "code",
   "execution_count": 12,
   "metadata": {},
   "outputs": [
    {
     "name": "stdout",
     "output_type": "stream",
     "text": [
      "Значение locall внутри функции =  77\n",
      "Значение globl внутри функции =  25\n",
      "Значение globl вне функции =  25\n",
      "Переменная locall не видна вне функции\n"
     ]
    }
   ],
   "source": [
    "globl = 10\n",
    "func() # Вызываем функцию\n",
    "print (\"Значение globl вне функции = \", globl)\n",
    "try:\n",
    "    print (\"Значение locall вне функции = \", locall) # Вызовет исключение NameError\n",
    "except NameError: # Обрабатываем исключение\n",
    "    print (\"Переменная locall не видна вне функции\")"
   ]
  },
  {
   "cell_type": "markdown",
   "metadata": {},
   "source": [
    "# Рекурсия\n",
    "\n",
    "Рекурсия — это возможность функции вызывать саму себя. Рекурсию удобно использовать для перебора объекта, имеющего заранее неизвестную структуру, или для выполнения неопределенного количества операций. \n",
    "\n",
    "Рекурсивные функции являются мощным механизмом в программировании. К сожалению, они не всегда эффективны. Также часто использование рекурсии приводит к ошибкам. Наиболее распространенная из таких ошибок – бесконечная рекурсия, когда цепочка вызовов функций никогда не завершается и продолжается, пока не кончится свободная память в компьютере. \n",
    "\n",
    "В качестве примера рассмотрим вычисление факториала."
   ]
  },
  {
   "cell_type": "markdown",
   "metadata": {},
   "source": [
    "# Пример 1. Факториал.\n",
    "\n",
    "\n",
    "Факториалом числа называют произведение всех натуральных чисел до него включительно:\n",
    "\n",
    "$$ n! = 1 \\cdot 2 \\cdot ... \\cdot n. $$"
   ]
  },
  {
   "cell_type": "code",
   "execution_count": 14,
   "metadata": {},
   "outputs": [],
   "source": [
    "def factorial_Rec(n):\n",
    "    if n == 0 or n == 1: return 1\n",
    "    else: return n * factorial_Rec(n - 1)"
   ]
  },
  {
   "cell_type": "markdown",
   "metadata": {},
   "source": [
    "Эта программа эквивалентна следующей"
   ]
  },
  {
   "cell_type": "code",
   "execution_count": 15,
   "metadata": {},
   "outputs": [],
   "source": [
    "def factorial(n):\n",
    "    factorial = 1\n",
    "    while n > 1:\n",
    "        factorial *= n\n",
    "        n -= 1\n",
    "    return factorial"
   ]
  },
  {
   "cell_type": "code",
   "execution_count": 16,
   "metadata": {},
   "outputs": [
    {
     "data": {
      "text/plain": [
       "24"
      ]
     },
     "execution_count": 16,
     "metadata": {},
     "output_type": "execute_result"
    }
   ],
   "source": [
    "factorial_Rec(4)"
   ]
  },
  {
   "cell_type": "markdown",
   "metadata": {},
   "source": [
    "Протестируем корректность работы программ:"
   ]
  },
  {
   "cell_type": "code",
   "execution_count": 21,
   "metadata": {},
   "outputs": [],
   "source": [
    "assert factorial_Rec(0) == 1\n",
    "assert factorial_Rec(1) == 1\n",
    "assert factorial_Rec(4) == 24\n",
    "\n",
    "assert factorial(0) == 1\n",
    "assert factorial(1) == 1\n",
    "assert factorial(4) == 24"
   ]
  },
  {
   "cell_type": "markdown",
   "metadata": {},
   "source": [
    "Утверждение (ключевое слово) assert существует во многих языках программирования. Это помогает обнаруживать проблемы в начале программы, где причина ясна, а не позже, как побочный эффект какой-либо другой операции. Используя это слово вы говорите программе проверить это условие и немедленно вызвать ошибку, если условие ложно."
   ]
  },
  {
   "cell_type": "code",
   "execution_count": 22,
   "metadata": {},
   "outputs": [],
   "source": [
    "import numpy as np\n",
    "\n",
    "n=50\n",
    "a = np.zeros(n)"
   ]
  },
  {
   "cell_type": "code",
   "execution_count": 23,
   "metadata": {},
   "outputs": [
    {
     "name": "stdout",
     "output_type": "stream",
     "text": [
      "174 µs ± 174 ns per loop (mean ± std. dev. of 7 runs, 10000 loops each)\n",
      "100 µs ± 133 ns per loop (mean ± std. dev. of 7 runs, 10000 loops each)\n"
     ]
    }
   ],
   "source": [
    "%timeit for i in range (n): a[i] = factorial_Rec(i)\n",
    "%timeit for i in range (n): a[i] = factorial(i)"
   ]
  },
  {
   "cell_type": "markdown",
   "metadata": {},
   "source": [
    "# Функции-генераторы\n",
    "\n",
    "Функцией-генератором называется функция, которая при последовательных вызовах возвращает очередной элемент какой-либо последовательности. Приостановить выполнение функции и превратить функцию в генератор позволяет ключевое слово yield. Генератор перестает возвращать значения, когда итераций больше нет, при достижении пустой команды return или конца функции. Локальные переменные в функции-генераторе сохраняются между вызовами (в отличие от обычных функций).\n",
    "\n",
    "Одну такую функцию мы уже встречали, это функция ranged(). Рассмотрим пример с этой функцией."
   ]
  },
  {
   "cell_type": "markdown",
   "metadata": {},
   "source": [
    "# Пример 2."
   ]
  },
  {
   "cell_type": "code",
   "execution_count": 43,
   "metadata": {},
   "outputs": [
    {
     "name": "stdout",
     "output_type": "stream",
     "text": [
      "0\n",
      "1\n",
      "2\n",
      "3\n",
      "4\n"
     ]
    }
   ],
   "source": [
    "for x in range(5):\n",
    "    print (x)"
   ]
  },
  {
   "cell_type": "code",
   "execution_count": 24,
   "metadata": {},
   "outputs": [
    {
     "data": {
      "text/plain": [
       "range(0, 5)"
      ]
     },
     "execution_count": 24,
     "metadata": {},
     "output_type": "execute_result"
    }
   ],
   "source": [
    "range(5)"
   ]
  },
  {
   "cell_type": "markdown",
   "metadata": {},
   "source": [
    "На её основе легко написать функцию, которая возводит элементы последовательности в заданною степень:"
   ]
  },
  {
   "cell_type": "code",
   "execution_count": 25,
   "metadata": {},
   "outputs": [],
   "source": [
    "def fun_xiny(x, у):\n",
    "    for i in range(1, x + 1):\n",
    "        yield i ** у"
   ]
  },
  {
   "cell_type": "code",
   "execution_count": 26,
   "metadata": {},
   "outputs": [
    {
     "name": "stdout",
     "output_type": "stream",
     "text": [
      "1 4 9 16 25 36 49 64 81 100 \n",
      "1 8 27 64 125 216 343 512 729 1000 "
     ]
    }
   ],
   "source": [
    "for n in fun_xiny(10, 2):\n",
    "    print(n, end=' ')\n",
    "print()\n",
    "\n",
    "for n in fun_xiny(10, 3):\n",
    "    print(n, end=' ') "
   ]
  },
  {
   "cell_type": "markdown",
   "metadata": {},
   "source": [
    "Однако, функцию-генератор легко можно написать и без ranged():"
   ]
  },
  {
   "cell_type": "code",
   "execution_count": 3,
   "metadata": {},
   "outputs": [],
   "source": [
    "def four():\n",
    "    x = 0 \n",
    "    while x < 4:\n",
    "        print(\"В генераторе, x =\", x)\n",
    "        yield x \n",
    "        x += 1 "
   ]
  },
  {
   "cell_type": "code",
   "execution_count": 4,
   "metadata": {},
   "outputs": [
    {
     "name": "stdout",
     "output_type": "stream",
     "text": [
      "В генераторе, x = 0\n",
      "А вне ненератора, x = 0\n",
      "В генераторе, x = 1\n",
      "А вне ненератора, x = 1\n",
      "В генераторе, x = 2\n",
      "А вне ненератора, x = 2\n",
      "В генераторе, x = 3\n",
      "А вне ненератора, x = 3\n"
     ]
    }
   ],
   "source": [
    "for x in four():\n",
    "    print('А вне ненератора, x =', x)"
   ]
  },
  {
   "cell_type": "markdown",
   "metadata": {},
   "source": [
    "# Упражнение 1. Факториал-генератор\n",
    "\n",
    "Напишите функцию-генератор возвращающую значение факториала."
   ]
  },
  {
   "cell_type": "code",
   "execution_count": null,
   "metadata": {},
   "outputs": [],
   "source": [
    "def factorial_generator(x):\n",
    "    mul = 1\n",
    "    i = 1\n",
    "    while i <= x:\n",
    "        mul *= i\n",
    "        yield mul\n",
    "        i += 1\n",
    "for k in factorial_generator(6):\n",
    "    print(k, end=' ')"
   ]
  },
  {
   "cell_type": "markdown",
   "metadata": {},
   "source": [
    "# Перехват ошибки.\n",
    "\n"
   ]
  },
  {
   "cell_type": "markdown",
   "metadata": {},
   "source": [
    "Как мы уже знаем, программа содержащая синтактические ошибки не может работать. Хотя, это не совсем верно, любая ошибка приводит к появлению во время работы программы (интерпритатора) \"исключения\", непозволяющего продолжить программу. Если это исключение можно преодолеть (обработать), программа сможет продолжить работать. \n",
    "\n",
    "При ошибке в тексте программы в терминологии языка Python возникает исключение, принадлежащее классу SyntaxError. Согласно документации Python синтаксические ошибки все-таки принято относить к ошибкам, а все остальные – к исключениям. В некоторых языках программирования не используется слово \"исключение\", а ошибки делят на синтаксические и семантические. Нарушение семантики обычно означает, что, хотя выражения написаны верно с точки зрения синтаксиса языка, программа не работает так, как от нее ожидалось. \n",
    "\n",
    "Ишибку любого рода можно перехватить (обработать) следующим образом:"
   ]
  },
  {
   "cell_type": "raw",
   "metadata": {},
   "source": [
    "try:\n",
    "    Блок_инструкций_1\n",
    "except:\n",
    "    Блок_инструкций_2 (выполняется в случае ошибки в Блок_инструкций_1)"
   ]
  },
  {
   "cell_type": "markdown",
   "metadata": {},
   "source": [
    "Однако, такой универсальный перехват не всегда дает возможность правильно обработать её. Возможно, для эффективного исправления ошибки необходимо глубже понять её природу. Для этого есть ряд ключевых вариантов:\n",
    "\n",
    "1. ArithmeticError - арифметическая ошибка.\n",
    "- FloatingPointError - порождается при неудачном выполнении операции с плавающей запятой. На практике встречается нечасто.\n",
    "- OverflowError - возникает, когда результат арифметической операции слишком велик для представления. Не появляется при обычной работе с целыми числами (так как python поддерживает длинные числа), но может возникать в некоторых других случаях.\n",
    "- ZeroDivisionError - деление на ноль.\n",
    "2. IndexError - индекс не входит в диапазон элементов.\n",
    "3. MemoryError - недостаточно памяти.\n",
    "4. SyntaxError - синтаксическая ошибка.\n",
    "5. TypeError - операция применена к объекту несоответствующего типа.\n",
    "6. ValueError - функция получает аргумент правильного типа, но некорректного значения.\n",
    "\n",
    "У оператора обработки исключений, кроме except, могут быть еще ветки finally и else (не обязательно обе сразу). Тело finally выполняется всегда, независимо от того, выполнялись ли блоки except в ответ на возникшие исключения или нет. Тело else сработает, если исключений в try не было, т. е. не было переходов на блоки except."
   ]
  },
  {
   "cell_type": "markdown",
   "metadata": {},
   "source": [
    "# Пример 3."
   ]
  },
  {
   "cell_type": "code",
   "execution_count": 6,
   "metadata": {},
   "outputs": [],
   "source": [
    "def divide():\n",
    "    try:\n",
    "        a = float(input(\"Введите делимое: \"))\n",
    "        b = float(input(\"Введите делитель: \"))\n",
    "        c = a / b\n",
    "        print(\"Частное: %.2f\" % c)\n",
    "    except ValueError:\n",
    "        print(\"Нельзя вводить строки\")\n",
    "    except ZeroDivisionError:\n",
    "        print(\"Нельзя делить на ноль\")\n",
    "    finally: # выполняется в любом случае\n",
    "        print(\"Конец программы\")"
   ]
  },
  {
   "cell_type": "code",
   "execution_count": 7,
   "metadata": {},
   "outputs": [
    {
     "name": "stdout",
     "output_type": "stream",
     "text": [
      "Введите делимое: 1\n",
      "Введите делитель: 2\n",
      "Частное: 0.50\n",
      "Конец программы\n"
     ]
    }
   ],
   "source": [
    "divide()"
   ]
  },
  {
   "cell_type": "code",
   "execution_count": 8,
   "metadata": {},
   "outputs": [
    {
     "name": "stdout",
     "output_type": "stream",
     "text": [
      "Введите делимое: 2\n",
      "Введите делитель: a\n",
      "Нельзя вводить строки\n",
      "Конец программы\n"
     ]
    }
   ],
   "source": [
    "divide()"
   ]
  },
  {
   "cell_type": "code",
   "execution_count": 7,
   "metadata": {},
   "outputs": [],
   "source": []
  },
  {
   "cell_type": "markdown",
   "metadata": {},
   "source": [
    "# Пример 4. "
   ]
  },
  {
   "cell_type": "markdown",
   "metadata": {},
   "source": [
    "Функция для проверки чисел на чётность или не четность. \n",
    "(Разберите структуру)"
   ]
  },
  {
   "cell_type": "code",
   "execution_count": 27,
   "metadata": {},
   "outputs": [],
   "source": [
    "def Parity ():\n",
    "    \n",
    "    sf=1\n",
    "    while bool(sf):\n",
    "        s=input('Введите число ')\n",
    "        try:\n",
    "            # перхватывает любую ошибку !\n",
    "            sf=int(s)\n",
    "            f=sf%2\n",
    "            if not bool(f):\n",
    "                print('четное')\n",
    "            else:\n",
    "                print('не четное')\n",
    "        except:\n",
    "            print('Йода говорит: только целые числа нужны нам!')\n",
    "        "
   ]
  },
  {
   "cell_type": "markdown",
   "metadata": {},
   "source": [
    "Вызов функции:"
   ]
  },
  {
   "cell_type": "code",
   "execution_count": 28,
   "metadata": {},
   "outputs": [
    {
     "name": "stdout",
     "output_type": "stream",
     "text": [
      "Введите число 4\n",
      "четное\n",
      "Введите число 5\n",
      "не четное\n",
      "Введите число f\n",
      "Йода говорит: только целые числа нужны нам!\n",
      "Введите число 6\n",
      "четное\n",
      "Введите число h\n",
      "Йода говорит: только целые числа нужны нам!\n",
      "Введите число 0\n",
      "четное\n"
     ]
    }
   ],
   "source": [
    "Parity ()"
   ]
  },
  {
   "cell_type": "markdown",
   "metadata": {},
   "source": [
    "# Упражнение 2. Точный перехват."
   ]
  },
  {
   "cell_type": "markdown",
   "metadata": {},
   "source": [
    "Уточните тип возможной ошибки и доработайте соответствующее уведомление пользователю."
   ]
  },
  {
   "cell_type": "code",
   "execution_count": null,
   "metadata": {},
   "outputs": [],
   "source": [
    "def is_even():\n",
    "    i = input('Введите целое число: ')\n",
    "    try:\n",
    "        print(int(i) % 2)\n",
    "    except ValueError:\n",
    "        print(f'Вы ввели не целое число. Тип переменной: {type(i)}')\n",
    "is_even()"
   ]
  },
  {
   "cell_type": "markdown",
   "metadata": {},
   "source": [
    "# Пример 5. \n",
    "\n",
    "Пример функции: функция для перевода числа из одной системы счисления в другую в виде цикла. \n",
    "(Разберите структуру)"
   ]
  },
  {
   "cell_type": "code",
   "execution_count": 33,
   "metadata": {},
   "outputs": [],
   "source": [
    "def convert_base (num, to_base=10, from_base=10):\n",
    "    \n",
    "         alphabet = \"0123456789ABCDEFGHIJKLMNOPQRSTUVWXYZ\"\n",
    "    \n",
    "         x = int (num, from_base)             # приведение к десятичной базе (ЗАГЛУШКА)\n",
    "    \n",
    "         # приведение к новой базе\n",
    "         it = 0\n",
    "         digit = []\n",
    "    \n",
    "         while x>0:\n",
    "                    digit.insert(0, alphabet[x % to_base])\n",
    "                    x = x // to_base\n",
    "                    it+=1\n",
    "         for i in range(it):\n",
    "                    print (digit[i], end = '')"
   ]
  },
  {
   "cell_type": "code",
   "execution_count": 34,
   "metadata": {},
   "outputs": [
    {
     "name": "stdout",
     "output_type": "stream",
     "text": [
      "235"
     ]
    }
   ],
   "source": [
    "convert_base ('111', to_base=8, from_base=12)"
   ]
  },
  {
   "cell_type": "markdown",
   "metadata": {},
   "source": [
    "Пример функции: функция для перевода числа из одной системы счисления в другую в рекурсивной форме. \n",
    "(Разберите структуру)"
   ]
  },
  {
   "cell_type": "code",
   "execution_count": 16,
   "metadata": {},
   "outputs": [],
   "source": [
    "def convert_base_R(num, to_base=10, from_base=10):\n",
    "    \n",
    "    alphabet = \"0123456789ABCDEFGHIJKLMNOPQRSTUVWXYZ\"\n",
    "    \n",
    "    if isinstance(num, str):     # праверка типа, аналогично type(num) == str\n",
    "        n = int(num, from_base)  # приведение к десятичной базе (ЗАГЛУШКА)\n",
    "    else:\n",
    "        n = int(num)\n",
    "    # приведение к новой базе\n",
    "    if n < to_base:\n",
    "        return alphabet[n]\n",
    "    else:\n",
    "        return convert_base_R(n // to_base, to_base) + alphabet[n % to_base]"
   ]
  },
  {
   "cell_type": "code",
   "execution_count": 17,
   "metadata": {},
   "outputs": [
    {
     "data": {
      "text/plain": [
       "'235'"
      ]
     },
     "execution_count": 17,
     "metadata": {},
     "output_type": "execute_result"
    }
   ],
   "source": [
    "convert_base_R('111', to_base=8, from_base=12)"
   ]
  },
  {
   "cell_type": "markdown",
   "metadata": {},
   "source": [
    "# Домашнее задание (базовое):"
   ]
  },
  {
   "cell_type": "markdown",
   "metadata": {},
   "source": [
    "# Задание 1\n",
    "\n",
    "Напишите программу, которая запрашивает ввод двух значений. Если хотя бы одно из них не является числом, то должна выполняться конкатенация, т. е. соединение, строк. В остальных случаях введенные числа суммируются."
   ]
  },
  {
   "cell_type": "code",
   "execution_count": null,
   "metadata": {},
   "outputs": [],
   "source": [
    "a = input('Введите первое значение: ')\n",
    "b = input('Введите второе значение: ')\n",
    "\n",
    "if testInput(a) and testInput(b):\n",
    "    print(int(a) + int(b))\n",
    "else:\n",
    "    print(a + b)"
   ]
  },
  {
   "cell_type": "markdown",
   "metadata": {},
   "source": [
    "# Задание 2. Тортик.\n",
    "\n",
    "За столом сидят n гостей (вводится с клавиатуры), перед которыми стоит пирог. Пирог и его части можно делить только пополам. Определите, сколько раз нужно делить пирог на ещё более мелкие части, чтобы: \n",
    "- каждому из гостей достался хотя бы 1 кусок;\n",
    "- как минимум половине гостей досталось по 2 куска;\n",
    "- каждому гостю досталось по 1 куску и при этом ещё хотя бы 10 кусков осталось в запасе."
   ]
  },
  {
   "cell_type": "code",
   "execution_count": null,
   "metadata": {},
   "outputs": [],
   "source": []
  },
  {
   "cell_type": "markdown",
   "metadata": {},
   "source": [
    "# Задание 3. Явный Фибоначи.\n",
    "\n",
    "Для n-го члена в последовательности Фибоначчи существует явная формула:\n",
    "\n",
    "$$x_n = \\frac{1}{2} \\left( \\left( \\frac{1 + \\sqrt{5}}{2} \\right)^{n+1} - \\left( \\frac{1 - \\sqrt{5}}{2} \\right)^{n+1} \\right) $$\n",
    "\n",
    "Поскольку операции с вещественными числами происходят с конечной точностью, то с ростом n, результат вычисления по этой формуле будет все больше отличаться от настоящего числа Фибоначчи. Найдите n, начиная с которого, отличие от истинного значения превысит 0.001."
   ]
  },
  {
   "cell_type": "code",
   "execution_count": null,
   "metadata": {},
   "outputs": [],
   "source": []
  },
  {
   "cell_type": "markdown",
   "metadata": {},
   "source": [
    "# Задание 4. Кубики.\n",
    "\n",
    "В детском садике n детей играют в следующую игру. Перед ними гора из m кубиков, первый ребёнок вынимает из кучи 1 кубик, каждый последующий ребёнок в два раза больше предыдущего и так по кругу. Если число кубиков, которые нужно вынуть, превышает 25, из него вычитается 25 и отсчёт идёт от уменьшенного числа, например, вместо 32 кубиков будет вынуто 7, затем 14 и т. д. Проигравшим считается тот, кто не смог вытащить нужное число кубиков (в куче осталось недостаточно). Определите проигравшего."
   ]
  },
  {
   "cell_type": "code",
   "execution_count": null,
   "metadata": {},
   "outputs": [],
   "source": []
  },
  {
   "cell_type": "markdown",
   "metadata": {},
   "source": [
    "# Задание 5. Ханойские башни\n",
    "\n",
    "Головоломка о ханойской башне была изобретена французским математиком Эдуардом Лукасом в 1883 году. Его вдохновила легенда, рассказывающая о замке Хинду, где эту задачу поставили перед юными жрецами. В начале времён им дали три стержня и стопку из шестидесяти четырёх золотых дисков, каждый из которых немного меньше предыдущего. Требовалось переставить все диски с одного стержня на другой, соблюдая два строгих условия. Во-первых, за раз можно было перемещать только один диск. Во-вторых, нельзя класть бОльший диск поверх меньшего. Жрецы работали (и работают по сей день) очень споро, день и ночь, переставляя каждую секунду по одному диску. Легенда гласит, что когда они закончат свою работу, замок обратится в пыль, и мир исчезнет.\n",
    "\n",
    "Хотя легенда и интересна, вам не стоит беспокоиться о скором конце света. Число ходов, требующихся для правильной перестановки башни из 64 дисков, равняется $2^{64}−1=18,446,744,073,709,551,615$. Со скоростью один ход в секунду это займёт 584,942,417,355 лет! Большая цифра для такой несложной на первый взгляд головоломки.\n",
    "\n",
    "Как нам решить эту задачу рекурсивно? С чего бы вы начали? Что является здесь базовым случаем? Давайте подумаем над этим от конца к началу. Предположим, изначально на первом колышке у вас находится башня из пяти дисков. Если вы уже знаете, как передвинуть четыре из них на второй колышек, то можете с лёгкостью переложить нижний диск на стержень №3, а затем переложить туда же башню со стержня №2. Но что, если вы понятия не имеете, как переместить башню из четырёх верхних? Предположим, что известно, как передвинуть башню из трёх верхних дисков на третий колышек. Тогда с перемещением четвёртого трудностей не возникнет: переложите его на второй стержень, а затем положите сверху те, что нанизаны на третий. Но если вы не знаете как переместить три? Что ж, можно переложить башню из двух дисков на стержень №2, а третий - на стержень №3, а потом сверху положить башню из двух. Но если до сих пор не понятно, как это сделать? Уверен, что вы согласитесь: переместить один диск на третий колышек легче лёгкого - тривиальнее ничего не найдётся. Звучит как базовый случай, а?\n",
    "\n",
    "Вот общая схема того, как переместить башню с исходного стержня на заданный с использованием промежуточного:\n",
    "- Передвинуть башню из (количество дисков - 1) на промежуточный колышек, используя при этом заданный.\n",
    "- Положить оставшийся диск на заданный стержень.\n",
    "- Переместить башню из оставшихся на промежуточном стержне дисков на конечный, используя при этом первоначальный колышек.\n",
    "\n",
    "Напишите функцию move (n, x, y), которая печатает последовательность перекладываний дисков для перемещения пирамидки высоты n со стержня номер x на стержень номер y. \n",
    "\n",
    "Реализуйте алгоритм в двух вариантах: на основе цикла и на основе рекурсии."
   ]
  },
  {
   "cell_type": "code",
   "execution_count": 2,
   "metadata": {},
   "outputs": [
    {
     "data": {
      "image/gif": "[encoded data removed]",
      "text/plain": [
       "<IPython.core.display.Image object>"
      ]
     },
     "execution_count": 2,
     "metadata": {},
     "output_type": "execute_result"
    }
   ],
   "source": [
    "# Так можно добавлять картинки\n",
    "\n",
    "from IPython.display import Image # вызов из библиотеки определённой функции\n",
    "Image(\"Ханойская башня.gif\")              # вызов функции и передача ей в качестве аргумента пути к файлу \n",
    "\n",
    "# (в данном случае фаил находится в той же папке)"
   ]
  },
  {
   "cell_type": "code",
   "execution_count": null,
   "metadata": {},
   "outputs": [],
   "source": [
    "def recursionMaker(n, x, y):\n",
    "    # n - количество дисков, которые нужно переместить на место y\n",
    "    if n > 1:\n",
    "        recursionMaker(n - 1, x, 6 - x - y)\n",
    "    print('%i --> %i' % (x, y))\n",
    "    if n - 1 > 1:\n",
    "        recursionMaker(n - 1, 6 - x - y, y)\n",
    "    elif n - 1 == 1:\n",
    "        print('%i --> %i' % (6 - x - y, y))\n",
    "def fixedHanoyCycleAlgorithm(n, x, y):\n",
    "    disks = [0] * n # позиция каждого диска\n",
    "    cntr = [0] * n # счётчик использования\n",
    "    corrs = { 0 : x, 1 : y, 2 : 6 - x - y }\n",
    "    for i in range(2 ** n):\n",
    "        for disk in range(n):\n",
    "            if 2 ** disk + 2 ** (disk + 1) * cntr[disk] == i:\n",
    "                cntr[disk] += 1\n",
    "                old = disks[disk]\n",
    "                disks[disk] = (disks[disk] + 1 + (n - 1 - disk) % 2) % 3\n",
    "                print(\"%i: %i --> %i\" % (disk + 1, corrs[old], corrs[disks[disk]]))\n",
    "                break\n",
    "n = int(input('Введите высоту пирамидки (в дисках): '))\n",
    "x = int(input('Введите номер стержня, на котором расположена пирамидка: '))\n",
    "y = int(input('Введите номер стержня, на который нужно переместить пирамидку: '))\n",
    "\n",
    "print('\\nПример элемента последовательности перекладываний: ')\n",
    "print('\"1 --> 2\". Это значит, что диск переложили с первого колышка на второй.\\n')\n",
    "\n",
    "if not (1 <= x <= 3 and 1 <= y <= 3):\n",
    "    print('Программа не будет выполняться. В условии задачи сказано, что стержней всего три.')\n",
    "elif n < 1 or x == y:\n",
    "    print('Программе выполняться не требуется.')\n",
    "else: \n",
    "    # запускаем две функции по очереди и измеряем время\n",
    "    recursionMaker(n, x, y); print()\n",
    "    \n",
    "    print('Рекурсивный алгоритм.')\n",
    "    input('Продолжить')\n",
    "    \n",
    "    fixedHanoyCycleAlgorithm(n, x, y); print()\n",
    "    \n",
    "    print('Циклический алгоритм.')\n",
    "    input('Завершить')"
   ]
  },
  {
   "cell_type": "markdown",
   "metadata": {},
   "source": [
    "# Домашнее задание (дополнительное):"
   ]
  },
  {
   "cell_type": "markdown",
   "metadata": {},
   "source": [
    "# Задание \"Вне системы\""
   ]
  },
  {
   "cell_type": "markdown",
   "metadata": {},
   "source": [
    "Написать программу совершающую элементарные алгебраические операции ($A+B$, $A-B$, $A*B$, $A/B$) с числами в произвольной системе исчисления. (Подсказка: обратите внимание на устройство программы convert_base и см. рисунок с выполенеием операций + и *.)"
   ]
  },
  {
   "cell_type": "code",
   "execution_count": 1,
   "metadata": {},
   "outputs": [
    {
     "data": {
      "image/png": "[encoded data removed]",
      "text/plain": [
       "<IPython.core.display.Image object>"
      ]
     },
     "execution_count": 1,
     "metadata": {},
     "output_type": "execute_result"
    }
   ],
   "source": [
    "# Так можно добавлять картинки\n",
    "\n",
    "from IPython.display import Image # вызов из библиотеки определённой функции\n",
    "Image(\"операции.png\")              # вызов функции и передача ей в качестве аргумента пути к файлу \n",
    "\n",
    "# (в данном случае фаил находится в той же папке)"
   ]
  },
  {
   "cell_type": "code",
   "execution_count": null,
   "metadata": {},
   "outputs": [],
   "source": [
    "try:\n",
    "    print('Выберите операцию:')\n",
    "    print('1) сложение')\n",
    "    print('2) умножение')\n",
    "    print('3) вычитание')\n",
    "    print('4) деление (только целочисленное): ', end = '')\n",
    "    task = int(input())\n",
    "    a, b = input('Введите два числа в произвольных ' +\n",
    "                 'системах счисления через пробел: ').split()\n",
    "    a_base, b_base = map(int, input('Введите системы счисления ' +\n",
    "                                    'чисел через пробел: ').split())\n",
    "    a_10 = int(convert_base_R(a, from_base = a_base))\n",
    "    b_10 = int(convert_base_R(b, from_base = b_base))\n",
    "    if b_10 == 0 and task == 4:\n",
    "        raise ZeroDivisionError\n",
    "    c_base = int(input('Введите систему счисления результата: '))\n",
    "    if task == 1:\n",
    "        print('Результат:', convert_base_R(a_10 + b_10, to_base = c_base))\n",
    "    elif task == 2:\n",
    "        print('Результат:', convert_base_R(a_10 * b_10, to_base = c_base))\n",
    "    elif task == 3:\n",
    "        print('Результат:', convert_base_R(a_10 - b_10, to_base = c_base))\n",
    "    elif task == 4:\n",
    "        print('Результат:', convert_base_R(a_10 // b_10, to_base = c_base))\n",
    "except ValueError:\n",
    "    print('Ошибка введенных данных.')\n",
    "    ERRMSG()\n",
    "except ZeroDivisionError:\n",
    "    print('Ошибка деления на ноль.')\n",
    "    ERRMSG()\n",
    "except IndexError:\n",
    "    print('Ошибка индекса.')\n",
    "    ERRMSG()"
   ]
  },
  {
   "cell_type": "markdown",
   "metadata": {},
   "source": [
    "# Задание \"Быстрый обратный квадратный корень\" \n",
    "\n",
    "Быстрый обратный квадратный корень — это быстрый приближённый алгоритм вычисления обратного квадратного корня \n",
    "\n",
    "$$ y=\\frac{1}{\\sqrt{x}} $$ \n",
    "\n",
    "для положительных 32-битных чисел с плавающей запятой. Алгоритм использует целочисленные операции «вычесть» и «битовый сдвиг», а также дробные «вычесть» и «умножить» — без медленных операций «разделить» и «квадратный корень». Несмотря на «хакерство» на битовом уровне, ошибка такого метода вычисления составляет всего несколько процентов, чего обычно не хватает для настоящих численных расчётов, однако вполне достаточно для трёхмерной графики. \n",
    "\n",
    "Алгоритм был, вероятно, разработан в Silicon Graphics в 1990-х, а реализация появилась в 1999 году в исходном коде компьютерной игры Quake III Arena, но данный метод не появлялся на общедоступных форумах до 2000-х годов. \n",
    "\n",
    "Алгоритм генерирует достаточно точные результаты, используя уникальное первое приближение метода Ньютона. Основным преимуществом алгоритма является отказ от дорогих вычислительных операций с плавающей запятой в пользу целочисленных операций. Обратные квадратные корни используются для расчета углов падения и отражения для освещения и затенения в компьютерной графике. Однако, версия для double бессмысленна, так как точность вычислений не увеличится.\n",
    "\n",
    "См. подробности на https://ru.wikipedia.org/wiki/Быстрый_обратный_квадратный_корень#cite_note-7\n",
    "\n",
    "Напишите программу, реализующую этот алгоритм. Для этого напишите функцию для быстрого вычисления обратного корня Q_rsqrt(), оцените ошибку такого метода вычисления. \n",
    "\n",
    "Сделайте одну итерацию с помощью метода Ньютона, котрая в данном случае имеет вид:\n",
    "\n",
    "$$ y_{n+1}=y_{n}(1.5-0.5xy_{n}^{2}) $$.\n",
    "\n",
    "Утверждается, что после этого погрешность обычно не превышает 1%. Проверьте так ли это."
   ]
  },
  {
   "cell_type": "code",
   "execution_count": null,
   "metadata": {},
   "outputs": [],
   "source": []
  },
  {
   "cell_type": "markdown",
   "metadata": {},
   "source": [
    "# Задание \"Умножение Карацубы\""
   ]
  },
  {
   "cell_type": "markdown",
   "metadata": {},
   "source": [
    "(n)-числа — те числа, которые требуют не более n элементов элементарных типов (цифр) в своём представлении. Будем считать, что с такими числами умеет работать вычислитель. Однако, если необходимо перемножить числа в два раза длиннее - (2n)-числа, как это сделать?\n",
    "\n",
    "Можно воспользоваться наивным алгоритмом, основанном на правилах умножения и переносе разряжов. Однако, такой алгоритм слишком накладен... К счастью, имеется более быстрый алгоритм. Он изобретён в 1960-х годах аспирантом А. Н. Колмогорова Анатолием Карацубой и с тех пор является неизменным участником любых библиотек работы с большими числами. Нас он интересует постольку, поскольку реализует принцип разделяй и властвуй. Пусть нам требуется перемножить два (2n)-числа. Введём константу T, на единицу большую максимального числа, представляемого (n)-числом. Тогда любое (2n)-число X можно представить в виде суммы $Tx_u + x_l$. \n",
    "\n",
    "$$N_1 = Tx_1 + y_1$$\n",
    "$$N_2 = Tx_2 + y_2$$\n",
    "\n",
    "При умножении в столбик\n",
    "\n",
    "$$N_1 × N_2 = T^2x_1x_2 + T(x_1y_2 + x_2y_1) + y_1y_2.$$\n",
    "\n",
    "Это — четыре операции умножения и три операции сложения. Число T определяет, сколько нулей нужно добавить к концу числа в соответствующей системе счисления.\n",
    "\n",
    "Алгоритм Карацубы находит произведение по другой формуле:\n",
    "\n",
    "$$N_1 × N_2 = T^2x_1x_2 + T((x_1 + y_1)(x_2 + y_2) − x_1x_2 − y_1y_2) + y_1y_2.$$\n",
    "\n",
    "Напишите программу, реализующую этот алгоритм. Представьте входные и выходные данные в виде формата list хранящего значения x и y. "
   ]
  },
  {
   "cell_type": "code",
   "execution_count": null,
   "metadata": {},
   "outputs": [],
   "source": [
    "def kar():\n",
    "    spis = []\n",
    "    x = input('Введите первое число: ')\n",
    "    spis.append(x)\n",
    "    y = input('Введите второе число: ')\n",
    "    spis.append(y)\n",
    "    if len(x) <= 10 and len(y) <= 10:\n",
    "        return (int(x))*(int(y))\n",
    "    else:\n",
    "        a = len(x)\n",
    "        if a % 2 == 0:\n",
    "            mid = a / 2\n",
    "            xs, ys = str(x), str(y)\n",
    "            \n",
    "            x_list, y_list = [i for i in xs], [i for i in ys]\n",
    "            \n",
    "            first_halfX, second_halfX = x_list[: a//2], x_list[a//2 :]\n",
    "            first_halfY, second_halfY = y_list[: a//2], y_list[a//2 :]\n",
    "            \n",
    "            xq, xw = ''.join(first_halfX),''.join(second_halfX)\n",
    "            x1, x2 = int(xq), int(xw)\n",
    "            yq,yw = ''.join(first_halfY), ''.join(second_halfY)\n",
    "            y1, y2 = int(yq), int(yw)\n",
    "        elif a % 2 == 1:\n",
    "            mid = (a + 1) / 2\n",
    "            xs, ys = str(x), str(y)\n",
    "            x_list, y_list = [i for i in xs], [i for i in ys]\n",
    "            \n",
    "            x_list.append(0)\n",
    "            y_list.append(0)\n",
    "            \n",
    "            first_halfX, second_halfX = x_list[: a // 2], x_list[a // 2 :]\n",
    "            first_halfY, second_halfY = y_list[: a // 2], y_list[a // 2 :]\n",
    "            \n",
    "            second_halfX.pop()\n",
    "            second_halfY.pop()\n",
    "            xq, xw = ''.join(first_halfX),''.join(second_halfX)\n",
    "            x1, x2 = int(xq), int(xw)\n",
    "            yq,yw = ''.join(first_halfY), ''.join(second_halfY)\n",
    "            y1, y2 = int(yq), int(yw)\n",
    "    mult = x2 * y2 + ((x1 + x2) * (y1 + y2) - y1 * x1 - y2 * x2) * 10 ** mid + y1 * x1 * 10 ** (2 * mid)\n",
    "    spis.append(mult)\n",
    "    print(spis)\n",
    "kar()"
   ]
  }
 ],
 "metadata": {
  "kernelspec": {
   "display_name": "Python 3 (ipykernel)",
   "language": "python",
   "name": "python3"
  },
  "language_info": {
   "codemirror_mode": {
    "name": "ipython",
    "version": 3
   },
   "file_extension": ".py",
   "mimetype": "text/x-python",
   "name": "python",
   "nbconvert_exporter": "python",
   "pygments_lexer": "ipython3",
   "version": "3.9.7"
  }
 },
 "nbformat": 4,
 "nbformat_minor": 4
}
